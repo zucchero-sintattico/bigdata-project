{
 "cells": [
  {
   "cell_type": "code",
   "id": "5cb32323-09f8-48db-8067-4777f7187fe4",
   "metadata": {
    "ExecuteTime": {
     "end_time": "2025-01-21T17:34:33.917086Z",
     "start_time": "2025-01-21T17:34:04.185881Z"
    }
   },
   "source": [
    "import org.apache.spark"
   ],
   "outputs": [
    {
     "data": {
      "text/plain": [
       "Intitializing Scala interpreter ..."
      ]
     },
     "metadata": {},
     "output_type": "display_data"
    },
    {
     "data": {
      "text/plain": [
       "Spark Web UI available at http://LAPTOP-PSTRJPQO:4040\n",
       "SparkContext available as 'sc' (version = 3.5.1, master = local[*], app id = local-1737480863243)\n",
       "SparkSession available as 'spark'\n"
      ]
     },
     "metadata": {},
     "output_type": "display_data"
    },
    {
     "data": {
      "text/plain": [
       "import org.apache.spark\r\n"
      ]
     },
     "execution_count": 1,
     "metadata": {},
     "output_type": "execute_result"
    }
   ],
   "execution_count": 1
  },
  {
   "cell_type": "code",
   "execution_count": null,
   "id": "af1e6f65-930e-4866-bd91-8cba39f3a020",
   "metadata": {},
   "outputs": [],
   "source": [
    "val sc = spark.SparkContext.getOrCreate()"
   ]
  },
  {
   "cell_type": "code",
   "id": "0e302bb2-72ef-4058-a393-c94817570236",
   "metadata": {
    "ExecuteTime": {
     "end_time": "2025-01-21T17:34:39.164816Z",
     "start_time": "2025-01-21T17:34:37.660630Z"
    }
   },
   "source": [
    "val path_to_datasets = \"../../../datasets/processed\"\n",
    "\n",
    "val path_to_tracks = path_to_datasets + \"/tracks.csv\"\n",
    "val path_to_playlists = path_to_datasets + \"/playlists.csv\"\n",
    "val path_to_track_in_playlists = path_to_datasets + \"/tracks_in_playlist.csv\"\n",
    "val path_to_artists = path_to_datasets + \"/artists.csv\""
   ],
   "outputs": [
    {
     "data": {
      "text/plain": [
       "path_to_datasets: String = ../../../datasets/processed\r\n",
       "path_to_tracks: String = ../../../datasets/processed/tracks.csv\r\n",
       "path_to_playlists: String = ../../../datasets/processed/playlists.csv\r\n",
       "path_to_track_in_playlists: String = ../../../datasets/processed/tracks_in_playlist.csv\r\n",
       "path_to_artists: String = ../../../datasets/processed/artists.csv\r\n"
      ]
     },
     "execution_count": 2,
     "metadata": {},
     "output_type": "execute_result"
    }
   ],
   "execution_count": 2
  },
  {
   "metadata": {
    "ExecuteTime": {
     "end_time": "2025-01-21T17:35:51.948718Z",
     "start_time": "2025-01-21T17:35:48.878335Z"
    }
   },
   "cell_type": "code",
   "source": [
    "object CsvParser {\n",
    "\n",
    "  val noGenresListed = \"(no genres listed)\"\n",
    "  val commaRegex = \",(?=(?:[^\\\"]*\\\"[^\\\"]*\\\")*[^\\\"]*$)\"\n",
    "  val pipeRegex = \"\\\\|(?=(?:[^\\\"]*\\\"[^\\\"]*\\\")*[^\\\"]*$)\"\n",
    "  val quotes = \"\\\"\"\n",
    "\n",
    "  \n",
    "  // (PID, playlist_name, num_followers)\n",
    "  def parsePlayListLine(line: String): Option[(String, String, Int)] = {\n",
    "    try {\n",
    "      val input = line.split(commaRegex)\n",
    "      Some(input(0).trim, input(1).trim, input(2).trim.toInt)\n",
    "    } catch {\n",
    "      case _: Exception => None\n",
    "    }\n",
    "  }\n",
    "\n",
    "  // (track_uri, track_name, duration_ms, artist_uri, album_uri, album_name)\n",
    "  def parseTrackLine(line: String): Option[(String, String, Int, String, String, String)] = {\n",
    "    try {\n",
    "      val input = line.split(commaRegex)\n",
    "      Some(input(0).trim, input(1).trim, input(2).trim.toInt, input(3).trim, input(4).trim, input(5).trim)\n",
    "    } catch {\n",
    "      case _: Exception => None\n",
    "    }\n",
    "  }\n",
    "\n",
    "  // (artist_uri, artist_name)\n",
    "  def parseArtistLine(line: String): Option[(String, String)] = {\n",
    "    try {\n",
    "      val input = line.split(commaRegex)\n",
    "      Some(input(0).trim, input(1).trim)\n",
    "    } catch {\n",
    "      case _: Exception => None\n",
    "    }\n",
    "  }\n",
    "\n",
    "  // (PID, track_uri, pos)\n",
    "  def parseTrackInPlaylistLine(line: String): Option[(String, String, Int)] = {\n",
    "    try {\n",
    "      val input = line.split(commaRegex)\n",
    "      Some(input(0).trim, input(1).trim, input(2).trim.toInt)\n",
    "    } catch {\n",
    "      case _: Exception => None\n",
    "    }\n",
    "  }\n",
    "}"
   ],
   "id": "344a2930231d75e4",
   "outputs": [
    {
     "data": {
      "text/plain": [
       "defined object CsvParser\r\n"
      ]
     },
     "execution_count": 3,
     "metadata": {},
     "output_type": "execute_result"
    }
   ],
   "execution_count": 3
  },
  {
   "metadata": {
    "ExecuteTime": {
     "end_time": "2025-01-21T17:36:02.215886Z",
     "start_time": "2025-01-21T17:35:59.352107Z"
    }
   },
   "cell_type": "code",
   "source": [
    "val rddTracks = sc.textFile(path_to_tracks).\n",
    "  flatMap(CsvParser.parseTrackLine)\n",
    "\n",
    "val rddPlaylists = sc.textFile(path_to_playlists).\n",
    "  flatMap(CsvParser.parsePlayListLine)\n",
    "\n",
    "val rddTrackInPlaylists = sc.textFile(path_to_track_in_playlists).\n",
    "  flatMap(CsvParser.parseTrackInPlaylistLine)\n",
    "\n",
    "val rddArtists = sc.textFile(path_to_artists).\n",
    "  flatMap(CsvParser.parseArtistLine)"
   ],
   "id": "195ad1db20c941cf",
   "outputs": [
    {
     "data": {
      "text/plain": [
       "rddTracks: org.apache.spark.rdd.RDD[(String, String, Int, String, String, String)] = MapPartitionsRDD[2] at flatMap at <console>:31\r\n",
       "rddPlaylists: org.apache.spark.rdd.RDD[(String, String, Int)] = MapPartitionsRDD[5] at flatMap at <console>:34\r\n",
       "rddTrackInPlaylists: org.apache.spark.rdd.RDD[(String, String, Int)] = MapPartitionsRDD[8] at flatMap at <console>:37\r\n",
       "rddArtists: org.apache.spark.rdd.RDD[(String, String)] = MapPartitionsRDD[11] at flatMap at <console>:40\r\n"
      ]
     },
     "execution_count": 4,
     "metadata": {},
     "output_type": "execute_result"
    }
   ],
   "execution_count": 4
  },
  {
   "metadata": {
    "ExecuteTime": {
     "end_time": "2025-01-21T17:36:09.223851Z",
     "start_time": "2025-01-21T17:36:06.259206Z"
    }
   },
   "cell_type": "code",
   "source": [
    " \n",
    "// For every song, find the most similar song, i.e., the one that appears most frequently in the same playlist.\n",
    "// (Join-Join-Aggregate)\n",
    "\n",
    "// auto-join of track_in_playlist \n",
    "// to get all song pairs in the same playlist\n",
    "\n",
    "// RDD of (pid, trackUri)\n",
    "val playlistTracks = rddTrackInPlaylists.map(x => (x._1, x._2))\n",
    "\n",
    "val rddTrackPairs = playlistTracks.join(playlistTracks)\n",
    "    .filter { case (_, (track1, track2)) => track1 != track2 }  // no auto-pair\n",
    "    .map { case (_, (track1, track2)) => ((track1, track2), 1) }   \n",
    "\n",
    "//Forma: ((track1, track2), 1)"
   ],
   "id": "8e4fa51c048f407f",
   "outputs": [
    {
     "data": {
      "text/plain": [
       "playlistTracks: org.apache.spark.rdd.RDD[(String, String)] = MapPartitionsRDD[12] at map at <console>:32\r\n",
       "rddTrackPairs: org.apache.spark.rdd.RDD[((String, String), Int)] = MapPartitionsRDD[17] at map at <console>:36\r\n"
      ]
     },
     "execution_count": 5,
     "metadata": {},
     "output_type": "execute_result"
    }
   ],
   "execution_count": 5
  },
  {
   "metadata": {
    "ExecuteTime": {
     "end_time": "2025-01-21T16:34:15.544834Z",
     "start_time": "2025-01-21T16:34:14.523193Z"
    }
   },
   "cell_type": "code",
   "source": [
    "// count the number of times each pair appears together\n",
    "val cooccurencesCount = rddTrackPairs.reduceByKey(_ + _)"
   ],
   "id": "e61bd3780e1b0a2",
   "outputs": [
    {
     "data": {
      "text/plain": [
       "cooccurencesCount: org.apache.spark.rdd.RDD[((String, String), Int)] = ShuffledRDD[56] at reduceByKey at <console>:26\r\n"
      ]
     },
     "execution_count": 20,
     "metadata": {},
     "output_type": "execute_result"
    }
   ],
   "execution_count": 20
  },
  {
   "metadata": {
    "ExecuteTime": {
     "end_time": "2025-01-21T16:34:18.841995Z",
     "start_time": "2025-01-21T16:34:17.571022Z"
    }
   },
   "cell_type": "code",
   "source": [
    "// get the most common pair for each track\n",
    "val mostCommonPair = cooccurencesCount\n",
    "          .map { case ((track1, track2), count) => (track1, (track2, count)) }\n",
    "          .reduceByKey { case ((track2A, count1), (track2B, count2)) => if (count1 > count2) (track2A, count1) else (track2B, count2) }"
   ],
   "id": "7ad8fe5a195ce674",
   "outputs": [
    {
     "data": {
      "text/plain": [
       "mostCommonPair: org.apache.spark.rdd.RDD[(String, (String, Int))] = ShuffledRDD[58] at reduceByKey at <console>:28\r\n"
      ]
     },
     "execution_count": 21,
     "metadata": {},
     "output_type": "execute_result"
    }
   ],
   "execution_count": 21
  },
  {
   "metadata": {
    "ExecuteTime": {
     "end_time": "2025-01-21T01:48:58.865791Z",
     "start_time": "2025-01-21T01:43:14.873705Z"
    }
   },
   "cell_type": "code",
   "source": "//mostCommonPair.collect()",
   "id": "cc8dd895138ba16e",
   "outputs": [
    {
     "data": {
      "text/plain": [
       "res0: Array[(String, (String, Int))] = Array((spotify:track:1mjcyWQPFsoG1Cb6Gl33Tk,(spotify:track:3kAwGo8mtUPsrctroxYLku,2)), (spotify:track:7y7bmax41rKlTLOmgNvzKR,(spotify:track:4awpwf3TeFWOtLiswRbKfr,1)), (spotify:track:7inXu0Eaeg02VsM8kHNvzM,(spotify:track:3T7dNA7O8c3Axj5WyDNcH3,11)), (spotify:track:1WHCuLyhiISWVENR0qXZ51,(spotify:track:57TUYBa41jfW56U2U9652l,1)), (spotify:track:7ccnwVhaD3ITUQ2x8EkilA,(spotify:track:5xoUgPXbMNUmoHU0Enwtwq,2)), (spotify:track:5oUV6yWdDM0R9Q2CizRhIt,(spotify:track:3ZMv9EzGoteNi5Qnx0KpEO,5)), (spotify:track:7AUOZzM5P8UDuA0zga0PP8,(spotify:track:57yfmPoMfWljcEl3qI1ADp,2)), (spotify:track:4bGEfWw5uEAnvYuTbESsMa,(spotify:track:4CbKVDZkYKdv69I4bCaKUq,1)), (spotify:track:2m6Wm0nBUJdDfCggvpWAnV,(spotify:track:12TE7Vt592RcM1G3EaaZ0f,2)), (spotify:track:3CpoeW0...\r\n"
      ]
     },
     "execution_count": 8,
     "metadata": {},
     "output_type": "execute_result"
    }
   ],
   "execution_count": 8
  },
  {
   "metadata": {
    "ExecuteTime": {
     "end_time": "2025-01-21T16:34:25.343655Z",
     "start_time": "2025-01-21T16:34:23.479877Z"
    }
   },
   "cell_type": "code",
   "source": [
    "// RDD of (track_uri, name)\n",
    "val trackDetails = rddTracks.map(x => (x._1, x._2))\n",
    "\n",
    "// join with track details\n",
    "val firstResult = mostCommonPair.\n",
    "        join(trackDetails).\n",
    "        map { case (track1, ((track2, count), track1Name)) => (track1, track1Name, track2, count) }\n",
    "\n"
   ],
   "id": "9a47acd97ce4ff84",
   "outputs": [
    {
     "data": {
      "text/plain": [
       "trackDetails: org.apache.spark.rdd.RDD[(String, String)] = MapPartitionsRDD[59] at map at <console>:27\r\n",
       "firstResult: org.apache.spark.rdd.RDD[(String, String, String, Int)] = MapPartitionsRDD[63] at map at <console>:32\r\n"
      ]
     },
     "execution_count": 22,
     "metadata": {},
     "output_type": "execute_result"
    }
   ],
   "execution_count": 22
  },
  {
   "metadata": {
    "ExecuteTime": {
     "end_time": "2025-01-21T16:34:36.714262Z",
     "start_time": "2025-01-21T16:34:35.788219Z"
    }
   },
   "cell_type": "code",
   "source": [
    "val finalResult = firstResult\n",
    "        .map { case (track1, track1Name, track2, count) => (track2, (track1, track1Name, count)) }\n",
    "        .join(trackDetails)\n",
    "        .map { case (track2, ((track1, track1Name, count), track2Name)) =>\n",
    "          (track1, track1Name, track2, track2Name, count)\n",
    "        }\n"
   ],
   "id": "e7899f0c95c0a6b5",
   "outputs": [
    {
     "data": {
      "text/plain": [
       "finalResult: org.apache.spark.rdd.RDD[(String, String, String, String, Int)] = MapPartitionsRDD[68] at map at <console>:29\r\n"
      ]
     },
     "execution_count": 23,
     "metadata": {},
     "output_type": "execute_result"
    }
   ],
   "execution_count": 23
  },
  {
   "metadata": {
    "ExecuteTime": {
     "end_time": "2025-01-21T16:41:29.487535Z",
     "start_time": "2025-01-21T16:35:11.828813Z"
    }
   },
   "cell_type": "code",
   "source": [
    "val csv = finalResult.map {\n",
    "  case (trackUri, trackName, coTrackUri, coTrackName, count) =>\n",
    "    s\"$trackUri,$trackName,$coTrackUri,$coTrackName,$count\"\n",
    "}\n",
    "\n",
    "csv.saveAsTextFile(\"output/result\")"
   ],
   "id": "ab1022c59c1c5733",
   "outputs": [
    {
     "data": {
      "text/plain": [
       "csv: org.apache.spark.rdd.RDD[String] = MapPartitionsRDD[69] at map at <console>:25\r\n"
      ]
     },
     "execution_count": 24,
     "metadata": {},
     "output_type": "execute_result"
    }
   ],
   "execution_count": 24
  },
  {
   "metadata": {
    "jupyter": {
     "is_executing": true
    },
    "ExecuteTime": {
     "end_time": "2025-01-21T01:34:08.698079Z",
     "start_time": "2025-01-21T01:26:34.499794Z"
    }
   },
   "cell_type": "code",
   "source": [
    "////////////////////////////////////////////////////////////////////////////////////////////////////////////////////////////////////////////////////////////////\n",
    "////////////////////////////////////////////////////////////////////////////////////////////////////////////////////////////////////////////////////////////////\n",
    "////////////////////////////////////////////////////////////////////////////////////////////////////////////////////////////////////////////////////////////////\n",
    "\n",
    "//              Versione ottimizzata\n",
    "\n",
    "////////////////////////////////////////////////////////////////////////////////////////////////////////////////////////////////////////////////////////////////\n",
    "////////////////////////////////////////////////////////////////////////////////////////////////////////////////////////////////////////////////////////////////\n",
    "////////////////////////////////////////////////////////////////////////////////////////////////////////////////////////////////////////////////////////////////"
   ],
   "id": "877cf4536b3c0000",
   "outputs": [],
   "execution_count": null
  },
  {
   "metadata": {
    "ExecuteTime": {
     "end_time": "2025-01-21T17:36:17.745272Z",
     "start_time": "2025-01-21T17:36:16.117514Z"
    }
   },
   "cell_type": "code",
   "source": [
    "val playlistToTracks = rddTrackInPlaylists\n",
    "            .map(x => (x._1, x._2))"
   ],
   "id": "d8ca8f134bad1cdb",
   "outputs": [
    {
     "data": {
      "text/plain": [
       "playlistToTracks: org.apache.spark.rdd.RDD[(String, String)] = MapPartitionsRDD[18] at map at <console>:26\r\n"
      ]
     },
     "execution_count": 6,
     "metadata": {},
     "output_type": "execute_result"
    }
   ],
   "execution_count": 6
  },
  {
   "metadata": {
    "ExecuteTime": {
     "end_time": "2025-01-21T17:36:36.176312Z",
     "start_time": "2025-01-21T17:36:32.112637Z"
    }
   },
   "cell_type": "code",
   "source": [
    "val coTracksByPlaylist = playlistToTracks\n",
    "        .groupByKey() // Raggruppa le tracce per playlist\n",
    "        .flatMap { case (_, tracks) =>\n",
    "          val trackList = tracks.toList\n",
    "          for {\n",
    "            track <- trackList\n",
    "            coTrack <- trackList if track != coTrack\n",
    "          } yield (track, coTrack) // Genera coppie (track, coTrack)\n",
    "        }\n"
   ],
   "id": "434f4f49b8d0bb20",
   "outputs": [
    {
     "data": {
      "text/plain": [
       "coTracksByPlaylist: org.apache.spark.rdd.RDD[(String, String)] = MapPartitionsRDD[20] at flatMap at <console>:27\r\n"
      ]
     },
     "execution_count": 7,
     "metadata": {},
     "output_type": "execute_result"
    }
   ],
   "execution_count": 7
  },
  {
   "metadata": {
    "ExecuteTime": {
     "end_time": "2025-01-21T17:36:47.839275Z",
     "start_time": "2025-01-21T17:36:45.374616Z"
    }
   },
   "cell_type": "code",
   "source": [
    "val cooccurrenceCounts = coTracksByPlaylist\n",
    "        .map { case (track, coTrack) => (track, Map(coTrack -> 1)) } // Mappa tracce a un conteggio iniziale\n",
    "        .aggregateByKey(Map[String, Int]())(\n",
    "          (acc, value) => { // Combinatore locale\n",
    "            value.foldLeft(acc) { case (map, (coTrack, count)) =>\n",
    "              map + (coTrack -> (map.getOrElse(coTrack, 0) + count))\n",
    "            }\n",
    "          },\n",
    "          (map1, map2) => { // Combinatore globale\n",
    "            map2.foldLeft(map1) { case (map, (coTrack, count)) =>\n",
    "              map + (coTrack -> (map.getOrElse(coTrack, 0) + count))\n",
    "            }\n",
    "          }\n",
    "        )"
   ],
   "id": "a6c85404541e6143",
   "outputs": [
    {
     "data": {
      "text/plain": [
       "cooccurrenceCounts: org.apache.spark.rdd.RDD[(String, scala.collection.immutable.Map[String,Int])] = ShuffledRDD[22] at aggregateByKey at <console>:27\r\n"
      ]
     },
     "execution_count": 8,
     "metadata": {},
     "output_type": "execute_result"
    }
   ],
   "execution_count": 8
  },
  {
   "metadata": {
    "ExecuteTime": {
     "end_time": "2025-01-21T17:36:55.545813Z",
     "start_time": "2025-01-21T17:36:53.902923Z"
    }
   },
   "cell_type": "code",
   "source": [
    "val mostCooccurringTrackPerTrack = cooccurrenceCounts\n",
    "        .mapValues { cooccurrences =>\n",
    "          cooccurrences.maxBy(_._2) // Trova la traccia con il conteggio massimo\n",
    "        }"
   ],
   "id": "ad93438674941413",
   "outputs": [
    {
     "data": {
      "text/plain": [
       "mostCooccurringTrackPerTrack: org.apache.spark.rdd.RDD[(String, (String, Int))] = MapPartitionsRDD[23] at mapValues at <console>:26\r\n"
      ]
     },
     "execution_count": 9,
     "metadata": {},
     "output_type": "execute_result"
    }
   ],
   "execution_count": 9
  },
  {
   "metadata": {
    "ExecuteTime": {
     "end_time": "2025-01-21T17:36:59.668836Z",
     "start_time": "2025-01-21T17:36:57.833863Z"
    }
   },
   "cell_type": "code",
   "source": [
    "// Mappa i dettagli delle tracce\n",
    "val trackDetail = rddTracks.map(line => (line._1, line._2))\n",
    "\n",
    "// Aggiungi i dettagli\n",
    "val enrichedResults = mostCooccurringTrackPerTrack\n",
    "  .join(trackDetail) // Aggiungi il nome della traccia principale\n",
    "  .map { case (trackUri, ((coTrackUri, count), trackName)) =>\n",
    "    (coTrackUri, (trackUri, trackName, count))\n",
    "  }\n",
    "  .join(trackDetail) // Aggiungi il nome della traccia co-occurrente\n",
    "  .map { case (coTrackUri, ((trackUri, trackName, count), coTrackName)) =>\n",
    "    (trackUri, trackName, coTrackUri, coTrackName, count)\n",
    "  }\n",
    "\n",
    "\n"
   ],
   "id": "a93fbdbf58fb250b",
   "outputs": [
    {
     "data": {
      "text/plain": [
       "trackDetail: org.apache.spark.rdd.RDD[(String, String)] = MapPartitionsRDD[24] at map at <console>:27\r\n",
       "enrichedResults: org.apache.spark.rdd.RDD[(String, String, String, String, Int)] = MapPartitionsRDD[32] at map at <console>:36\r\n"
      ]
     },
     "execution_count": 10,
     "metadata": {},
     "output_type": "execute_result"
    }
   ],
   "execution_count": 10
  },
  {
   "metadata": {
    "ExecuteTime": {
     "end_time": "2025-01-21T17:40:01.884387Z",
     "start_time": "2025-01-21T17:37:27.110560Z"
    }
   },
   "cell_type": "code",
   "source": "enrichedResults.saveAsTextFile(\"output/result\")",
   "id": "941c329988f8e4a0",
   "outputs": [],
   "execution_count": 11
  }
 ],
 "metadata": {
  "kernelspec": {
   "display_name": "spylon-kernel",
   "language": "scala",
   "name": "spylon-kernel"
  },
  "language_info": {
   "codemirror_mode": "text/x-scala",
   "file_extension": ".scala",
   "help_links": [
    {
     "text": "MetaKernel Magics",
     "url": "https://metakernel.readthedocs.io/en/latest/source/README.html"
    }
   ],
   "mimetype": "text/x-scala",
   "name": "scala",
   "pygments_lexer": "scala",
   "version": "0.4.1"
  }
 },
 "nbformat": 4,
 "nbformat_minor": 5
}
