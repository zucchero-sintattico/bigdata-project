{
 "cells": [
  {
   "cell_type": "code",
   "id": "5cb32323-09f8-48db-8067-4777f7187fe4",
   "metadata": {
    "ExecuteTime": {
     "end_time": "2025-01-21T01:42:38.110163Z",
     "start_time": "2025-01-21T01:42:12.375313Z"
    }
   },
   "source": [
    "import org.apache.spark"
   ],
   "outputs": [
    {
     "data": {
      "text/plain": [
       "Intitializing Scala interpreter ..."
      ]
     },
     "metadata": {},
     "output_type": "display_data"
    },
    {
     "data": {
      "text/plain": [
       "Spark Web UI available at http://LAPTOP-PSTRJPQO.fritz.box:4040\n",
       "SparkContext available as 'sc' (version = 3.5.1, master = local[*], app id = local-1737423746788)\n",
       "SparkSession available as 'spark'\n"
      ]
     },
     "metadata": {},
     "output_type": "display_data"
    },
    {
     "data": {
      "text/plain": [
       "import org.apache.spark\r\n"
      ]
     },
     "execution_count": 1,
     "metadata": {},
     "output_type": "execute_result"
    }
   ],
   "execution_count": 1
  },
  {
   "cell_type": "code",
   "execution_count": null,
   "id": "af1e6f65-930e-4866-bd91-8cba39f3a020",
   "metadata": {},
   "outputs": [],
   "source": [
    "val sc = spark.SparkContext.getOrCreate()"
   ]
  },
  {
   "cell_type": "code",
   "id": "0e302bb2-72ef-4058-a393-c94817570236",
   "metadata": {
    "ExecuteTime": {
     "end_time": "2025-01-21T01:42:53.399136Z",
     "start_time": "2025-01-21T01:42:52.454497Z"
    }
   },
   "source": [
    "val path_to_datasets = \"../../../datasets/processed\"\n",
    "\n",
    "val path_to_tracks = path_to_datasets + \"/tracks.csv\"\n",
    "val path_to_playlists = path_to_datasets + \"/playlists.csv\"\n",
    "val path_to_track_in_playlists = path_to_datasets + \"/tracks_in_playlist.csv\"\n",
    "val path_to_artists = path_to_datasets + \"/artists.csv\""
   ],
   "outputs": [
    {
     "data": {
      "text/plain": [
       "path_to_datasets: String = ../../../datasets/processed\r\n",
       "path_to_tracks: String = ../../../datasets/processed/tracks.csv\r\n",
       "path_to_playlists: String = ../../../datasets/processed/playlists.csv\r\n",
       "path_to_track_in_playlists: String = ../../../datasets/processed/tracks_in_playlist.csv\r\n",
       "path_to_artists: String = ../../../datasets/processed/artists.csv\r\n"
      ]
     },
     "execution_count": 2,
     "metadata": {},
     "output_type": "execute_result"
    }
   ],
   "execution_count": 2
  },
  {
   "metadata": {
    "ExecuteTime": {
     "end_time": "2025-01-21T01:42:58.115529Z",
     "start_time": "2025-01-21T01:42:55.344865Z"
    }
   },
   "cell_type": "code",
   "source": [
    "object CsvParser {\n",
    "\n",
    "  val noGenresListed = \"(no genres listed)\"\n",
    "  val commaRegex = \",(?=(?:[^\\\"]*\\\"[^\\\"]*\\\")*[^\\\"]*$)\"\n",
    "  val pipeRegex = \"\\\\|(?=(?:[^\\\"]*\\\"[^\\\"]*\\\")*[^\\\"]*$)\"\n",
    "  val quotes = \"\\\"\"\n",
    "\n",
    "  \n",
    "  // (PID, playlist_name, num_followers)\n",
    "  def parsePlayListLine(line: String): Option[(String, String, Int)] = {\n",
    "    try {\n",
    "      val input = line.split(commaRegex)\n",
    "      Some(input(0).trim, input(1).trim, input(2).trim.toInt)\n",
    "    } catch {\n",
    "      case _: Exception => None\n",
    "    }\n",
    "  }\n",
    "\n",
    "  // (track_uri, track_name, duration_ms, artist_uri, album_uri, album_name)\n",
    "  def parseTrackLine(line: String): Option[(String, String, Int, String, String, String)] = {\n",
    "    try {\n",
    "      val input = line.split(commaRegex)\n",
    "      Some(input(0).trim, input(1).trim, input(2).trim.toInt, input(3).trim, input(4).trim, input(5).trim)\n",
    "    } catch {\n",
    "      case _: Exception => None\n",
    "    }\n",
    "  }\n",
    "\n",
    "  // (artist_uri, artist_name)\n",
    "  def parseArtistLine(line: String): Option[(String, String)] = {\n",
    "    try {\n",
    "      val input = line.split(commaRegex)\n",
    "      Some(input(0).trim, input(1).trim)\n",
    "    } catch {\n",
    "      case _: Exception => None\n",
    "    }\n",
    "  }\n",
    "\n",
    "  // (PID, track_uri, pos)\n",
    "  def parseTrackInPlaylistLine(line: String): Option[(String, String, Int)] = {\n",
    "    try {\n",
    "      val input = line.split(commaRegex)\n",
    "      Some(input(0).trim, input(1).trim, input(2).trim.toInt)\n",
    "    } catch {\n",
    "      case _: Exception => None\n",
    "    }\n",
    "  }\n",
    "}"
   ],
   "id": "344a2930231d75e4",
   "outputs": [
    {
     "data": {
      "text/plain": [
       "defined object CsvParser\r\n"
      ]
     },
     "execution_count": 3,
     "metadata": {},
     "output_type": "execute_result"
    }
   ],
   "execution_count": 3
  },
  {
   "metadata": {
    "ExecuteTime": {
     "end_time": "2025-01-21T01:43:02.877467Z",
     "start_time": "2025-01-21T01:42:59.540069Z"
    }
   },
   "cell_type": "code",
   "source": [
    "val rddTracks = sc.textFile(path_to_tracks).\n",
    "  flatMap(CsvParser.parseTrackLine)\n",
    "\n",
    "val rddPlaylists = sc.textFile(path_to_playlists).\n",
    "  flatMap(CsvParser.parsePlayListLine)\n",
    "\n",
    "val rddTrackInPlaylists = sc.textFile(path_to_track_in_playlists).\n",
    "  flatMap(CsvParser.parseTrackInPlaylistLine)\n",
    "\n",
    "val rddArtists = sc.textFile(path_to_artists).\n",
    "  flatMap(CsvParser.parseArtistLine)"
   ],
   "id": "195ad1db20c941cf",
   "outputs": [
    {
     "data": {
      "text/plain": [
       "rddTracks: org.apache.spark.rdd.RDD[(String, String, Int, String, String, String)] = MapPartitionsRDD[2] at flatMap at <console>:31\r\n",
       "rddPlaylists: org.apache.spark.rdd.RDD[(String, String, Int)] = MapPartitionsRDD[5] at flatMap at <console>:34\r\n",
       "rddTrackInPlaylists: org.apache.spark.rdd.RDD[(String, String, Int)] = MapPartitionsRDD[8] at flatMap at <console>:37\r\n",
       "rddArtists: org.apache.spark.rdd.RDD[(String, String)] = MapPartitionsRDD[11] at flatMap at <console>:40\r\n"
      ]
     },
     "execution_count": 4,
     "metadata": {},
     "output_type": "execute_result"
    }
   ],
   "execution_count": 4
  },
  {
   "metadata": {
    "ExecuteTime": {
     "end_time": "2025-01-21T01:43:05.979462Z",
     "start_time": "2025-01-21T01:43:04.423026Z"
    }
   },
   "cell_type": "code",
   "source": [
    " \n",
    "// For every song, find the most similar song, i.e., the one that appears most frequently in the same playlist.\n",
    "// (Join-Join-Aggregate)\n",
    "\n",
    "// auto-join of track_in_playlist \n",
    "// to get all song pairs in the same playlist\n",
    "\n",
    "// RDD of (pid, trackUri)\n",
    "val playlistTracks = rddTrackInPlaylists.map(x => (x._1, x._2))\n",
    "\n",
    "val rddTrackPairs = playlistTracks.join(playlistTracks)\n",
    "    .filter { case (_, (track1, track2)) => track1 != track2 }  // no auto-pair\n",
    "    .map { case (_, (track1, track2)) => ((track1, track2), 1) }   \n",
    "\n",
    "//Forma: ((track1, track2), 1)"
   ],
   "id": "8e4fa51c048f407f",
   "outputs": [
    {
     "data": {
      "text/plain": [
       "playlistTracks: org.apache.spark.rdd.RDD[(String, String)] = MapPartitionsRDD[12] at map at <console>:32\r\n",
       "rddTrackPairs: org.apache.spark.rdd.RDD[((String, String), Int)] = MapPartitionsRDD[17] at map at <console>:36\r\n"
      ]
     },
     "execution_count": 5,
     "metadata": {},
     "output_type": "execute_result"
    }
   ],
   "execution_count": 5
  },
  {
   "metadata": {
    "ExecuteTime": {
     "end_time": "2025-01-21T01:43:09.109366Z",
     "start_time": "2025-01-21T01:43:08.066970Z"
    }
   },
   "cell_type": "code",
   "source": [
    "// count the number of times each pair appears together\n",
    "val cooccurencesCount = rddTrackPairs.reduceByKey(_ + _)"
   ],
   "id": "e61bd3780e1b0a2",
   "outputs": [
    {
     "data": {
      "text/plain": [
       "cooccurencesCount: org.apache.spark.rdd.RDD[((String, String), Int)] = ShuffledRDD[18] at reduceByKey at <console>:26\r\n"
      ]
     },
     "execution_count": 6,
     "metadata": {},
     "output_type": "execute_result"
    }
   ],
   "execution_count": 6
  },
  {
   "metadata": {
    "ExecuteTime": {
     "end_time": "2025-01-21T01:43:13.665454Z",
     "start_time": "2025-01-21T01:43:12.526551Z"
    }
   },
   "cell_type": "code",
   "source": [
    "// get the most common pair for each track\n",
    "val mostCommonPair = cooccurencesCount\n",
    "          .map { case ((track1, track2), count) => (track1, (track2, count)) }\n",
    "          .reduceByKey { case ((track2A, count1), (track2B, count2)) => if (count1 > count2) (track2A, count1) else (track2B, count2) }"
   ],
   "id": "7ad8fe5a195ce674",
   "outputs": [
    {
     "data": {
      "text/plain": [
       "mostCommonPair: org.apache.spark.rdd.RDD[(String, (String, Int))] = ShuffledRDD[20] at reduceByKey at <console>:28\r\n"
      ]
     },
     "execution_count": 7,
     "metadata": {},
     "output_type": "execute_result"
    }
   ],
   "execution_count": 7
  },
  {
   "metadata": {
    "ExecuteTime": {
     "end_time": "2025-01-21T01:48:58.865791Z",
     "start_time": "2025-01-21T01:43:14.873705Z"
    }
   },
   "cell_type": "code",
   "source": "//mostCommonPair.collect()",
   "id": "cc8dd895138ba16e",
   "outputs": [
    {
     "data": {
      "text/plain": [
       "res0: Array[(String, (String, Int))] = Array((spotify:track:1mjcyWQPFsoG1Cb6Gl33Tk,(spotify:track:3kAwGo8mtUPsrctroxYLku,2)), (spotify:track:7y7bmax41rKlTLOmgNvzKR,(spotify:track:4awpwf3TeFWOtLiswRbKfr,1)), (spotify:track:7inXu0Eaeg02VsM8kHNvzM,(spotify:track:3T7dNA7O8c3Axj5WyDNcH3,11)), (spotify:track:1WHCuLyhiISWVENR0qXZ51,(spotify:track:57TUYBa41jfW56U2U9652l,1)), (spotify:track:7ccnwVhaD3ITUQ2x8EkilA,(spotify:track:5xoUgPXbMNUmoHU0Enwtwq,2)), (spotify:track:5oUV6yWdDM0R9Q2CizRhIt,(spotify:track:3ZMv9EzGoteNi5Qnx0KpEO,5)), (spotify:track:7AUOZzM5P8UDuA0zga0PP8,(spotify:track:57yfmPoMfWljcEl3qI1ADp,2)), (spotify:track:4bGEfWw5uEAnvYuTbESsMa,(spotify:track:4CbKVDZkYKdv69I4bCaKUq,1)), (spotify:track:2m6Wm0nBUJdDfCggvpWAnV,(spotify:track:12TE7Vt592RcM1G3EaaZ0f,2)), (spotify:track:3CpoeW0...\r\n"
      ]
     },
     "execution_count": 8,
     "metadata": {},
     "output_type": "execute_result"
    }
   ],
   "execution_count": 8
  },
  {
   "metadata": {
    "ExecuteTime": {
     "end_time": "2025-01-21T01:50:14.264277Z",
     "start_time": "2025-01-21T01:50:11.014484Z"
    }
   },
   "cell_type": "code",
   "source": [
    "\n",
    "// RDD of (track_uri, name)\n",
    "val trackDetails = rddTracks.map(x => (x._1, x._2))\n",
    "\n",
    "// join with track details\n",
    "val firstResult = mostCommonPair.\n",
    "        join(trackDetails).\n",
    "        map { case (track1, ((track2, count), track1Name)) => (track1, track1Name, track2, count) }\n",
    "\n"
   ],
   "id": "9a47acd97ce4ff84",
   "outputs": [
    {
     "data": {
      "text/plain": [
       "trackDetails: org.apache.spark.rdd.RDD[(String, String)] = MapPartitionsRDD[21] at map at <console>:27\r\n",
       "firstResult: org.apache.spark.rdd.RDD[(String, String, String, Int)] = MapPartitionsRDD[25] at map at <console>:32\r\n"
      ]
     },
     "execution_count": 9,
     "metadata": {},
     "output_type": "execute_result"
    }
   ],
   "execution_count": 9
  },
  {
   "metadata": {
    "ExecuteTime": {
     "end_time": "2025-01-21T01:51:10.093336Z",
     "start_time": "2025-01-21T01:50:40.392636Z"
    }
   },
   "cell_type": "code",
   "source": [
    "val finalResult = firstResult\n",
    "        .map { case (track1, track1Name, track2, count) => (track2, (track1, track1Name, count)) }\n",
    "        .join(trackDetails)\n",
    "        .map { case (track2, ((track1, track1Name, count), track2Name)) =>\n",
    "          (track1, track1Name, track2, track2Name, count)\n",
    "        }.collect()\n"
   ],
   "id": "e7899f0c95c0a6b5",
   "outputs": [
    {
     "data": {
      "text/plain": [
       "finalResult: Array[(String, String, String, String, Int)] = Array((spotify:track:6SDJcDg0BzVOuUGT0WEYKP,We Wish You a Merry Christmas,spotify:track:7inXu0Eaeg02VsM8kHNvzM,Let It Snow! Let It Snow! Let It Snow!,2), (spotify:track:1abiHuQJw6UZyFkekr7DDY,It Feels Like Christmas,spotify:track:7inXu0Eaeg02VsM8kHNvzM,Let It Snow! Let It Snow! Let It Snow!,2), (spotify:track:6JzICCKjjIzQ5M2YqzLhWF,Winter Wonderland,spotify:track:7inXu0Eaeg02VsM8kHNvzM,Let It Snow! Let It Snow! Let It Snow!,2), (spotify:track:5EWxWuzdUI5S8l1KTfheGn,Jingle Bell Rock,spotify:track:7inXu0Eaeg02VsM8kHNvzM,Let It Snow! Let It Snow! Let It Snow!,2), (spotify:track:5OUN3NDrirM4SVqxCfN0Zn,The Nutcracker. Op. 71: Act II Tableau 3: Divertissement: f. Mother Gigogne and the clowns,spotify:track:7inXu0Eaeg02VsM8kHNvzM,Let ...\r\n"
      ]
     },
     "execution_count": 10,
     "metadata": {},
     "output_type": "execute_result"
    }
   ],
   "execution_count": 10
  },
  {
   "metadata": {
    "jupyter": {
     "is_executing": true
    },
    "ExecuteTime": {
     "end_time": "2025-01-21T01:34:08.698079Z",
     "start_time": "2025-01-21T01:26:34.499794Z"
    }
   },
   "cell_type": "code",
   "source": "",
   "id": "877cf4536b3c0000",
   "outputs": [],
   "execution_count": null
  }
 ],
 "metadata": {
  "kernelspec": {
   "display_name": "spylon-kernel",
   "language": "scala",
   "name": "spylon-kernel"
  },
  "language_info": {
   "codemirror_mode": "text/x-scala",
   "file_extension": ".scala",
   "help_links": [
    {
     "text": "MetaKernel Magics",
     "url": "https://metakernel.readthedocs.io/en/latest/source/README.html"
    }
   ],
   "mimetype": "text/x-scala",
   "name": "scala",
   "pygments_lexer": "scala",
   "version": "0.4.1"
  }
 },
 "nbformat": 4,
 "nbformat_minor": 5
}
