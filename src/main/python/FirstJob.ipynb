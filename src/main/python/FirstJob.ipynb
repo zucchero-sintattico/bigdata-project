{
 "cells": [
  {
   "cell_type": "code",
   "id": "990d985c-c9e8-49c0-abbe-789ed7fe90cc",
   "metadata": {
    "ExecuteTime": {
     "end_time": "2025-01-23T15:42:27.651145Z",
     "start_time": "2025-01-23T15:42:27.462297Z"
    }
   },
   "source": "import org.apache.spark",
   "outputs": [
    {
     "data": {
      "text/plain": [
       "import org.apache.spark\n"
      ]
     },
     "execution_count": 2,
     "metadata": {},
     "output_type": "execute_result"
    }
   ],
   "execution_count": 2
  },
  {
   "metadata": {},
   "cell_type": "code",
   "outputs": [],
   "execution_count": null,
   "source": "val sc = spark.SparkContext.getOrCreate()",
   "id": "916fb4cdbe9e6b4f"
  },
  {
   "metadata": {
    "ExecuteTime": {
     "end_time": "2025-01-23T15:42:28.468303Z",
     "start_time": "2025-01-23T15:42:28.293520Z"
    }
   },
   "cell_type": "code",
   "source": [
    "val path_to_datasets = \"../../../datasets/processed\"\n",
    "\n",
    "val path_to_tracks = path_to_datasets + \"/tracks.csv\"\n",
    "val path_to_playlists = path_to_datasets + \"/playlists.csv\"\n",
    "val path_to_track_in_playlists = path_to_datasets + \"/tracks_in_playlist.csv\"\n",
    "val path_to_artists = path_to_datasets + \"/artists.csv\""
   ],
   "id": "c6ecb118412e0c11",
   "outputs": [
    {
     "data": {
      "text/plain": [
       "path_to_datasets: String = ../../../datasets/processed\n",
       "path_to_tracks: String = ../../../datasets/processed/tracks.csv\n",
       "path_to_playlists: String = ../../../datasets/processed/playlists.csv\n",
       "path_to_track_in_playlists: String = ../../../datasets/processed/tracks_in_playlist.csv\n",
       "path_to_artists: String = ../../../datasets/processed/artists.csv\n"
      ]
     },
     "execution_count": 3,
     "metadata": {},
     "output_type": "execute_result"
    }
   ],
   "execution_count": 3
  },
  {
   "metadata": {
    "ExecuteTime": {
     "end_time": "2025-01-23T15:42:29.829601Z",
     "start_time": "2025-01-23T15:42:29.208548Z"
    }
   },
   "cell_type": "code",
   "source": [
    "object CsvParser {\n",
    "\n",
    "  val noGenresListed = \"(no genres listed)\"\n",
    "  val commaRegex = \",(?=(?:[^\\\"]*\\\"[^\\\"]*\\\")*[^\\\"]*$)\"\n",
    "  val pipeRegex = \"\\\\|(?=(?:[^\\\"]*\\\"[^\\\"]*\\\")*[^\\\"]*$)\"\n",
    "  val quotes = \"\\\"\"\n",
    "\n",
    "  // (PID, playlist_name, num_followers)\n",
    "  def parsePlayListLine(line: String): Option[(String, String, Int)] = {\n",
    "    try {\n",
    "      val input = line.split(commaRegex)\n",
    "      Some(input(0).trim, input(1).trim, input(2).trim.toInt)\n",
    "    } catch {\n",
    "      case _: Exception => None\n",
    "    }\n",
    "  }\n",
    "\n",
    "  // (track_uri, track_name, duration_ms, artist_uri, album_uri, album_name)\n",
    "  def parseTrackLine(line: String): Option[(String, String, Int, String, String, String)] = {\n",
    "    try {\n",
    "      val input = line.split(commaRegex)\n",
    "      Some(input(0).trim, input(1).trim, input(2).trim.toInt, input(3).trim, input(4).trim, input(5).trim)\n",
    "    } catch {\n",
    "      case _: Exception => None\n",
    "    }\n",
    "  }\n",
    "\n",
    "  // (artist_uri, artist_name)\n",
    "  def parseArtistLine(line: String): Option[(String, String)] = {\n",
    "    try {\n",
    "      val input = line.split(commaRegex)\n",
    "      Some(input(0).trim, input(1).trim)\n",
    "    } catch {\n",
    "      case _: Exception => None\n",
    "    }\n",
    "  }\n",
    "\n",
    "  // (PID, track_uri, pos)\n",
    "  def parseTrackInPlaylistLine(line: String): Option[(String, String, Int)] = {\n",
    "    try {\n",
    "      val input = line.split(commaRegex)\n",
    "\n",
    "      Some(input(0).trim, input(1).trim, input(2).trim.toInt)\n",
    "    } catch {\n",
    "      case _: Exception => None\n",
    "    }\n",
    "  }\n",
    "}"
   ],
   "id": "3b926bf2bd3efb08",
   "outputs": [
    {
     "data": {
      "text/plain": [
       "defined object CsvParser\n"
      ]
     },
     "execution_count": 4,
     "metadata": {},
     "output_type": "execute_result"
    }
   ],
   "execution_count": 4
  },
  {
   "metadata": {
    "ExecuteTime": {
     "end_time": "2025-01-23T15:42:30.986531Z",
     "start_time": "2025-01-23T15:42:30.177993Z"
    }
   },
   "cell_type": "code",
   "source": [
    "val rddTracks = sc.textFile(path_to_tracks).\n",
    "  flatMap(CsvParser.parseTrackLine)\n",
    "\n",
    "val rddPlaylists = sc.textFile(path_to_playlists).\n",
    "  flatMap(CsvParser.parsePlayListLine)\n",
    "\n",
    "val rddTrackInPlaylists = sc.textFile(path_to_track_in_playlists).\n",
    "  flatMap(CsvParser.parseTrackInPlaylistLine)\n",
    "\n",
    "val rddArtists = sc.textFile(path_to_artists).\n",
    "  flatMap(CsvParser.parseArtistLine)"
   ],
   "id": "212e24357ce478d5",
   "outputs": [
    {
     "data": {
      "text/plain": [
       "rddTracks: org.apache.spark.rdd.RDD[(String, String, Int, String, String, String)] = MapPartitionsRDD[2] at flatMap at <console>:31\n",
       "rddPlaylists: org.apache.spark.rdd.RDD[(String, String, Int)] = MapPartitionsRDD[5] at flatMap at <console>:34\n",
       "rddTrackInPlaylists: org.apache.spark.rdd.RDD[(String, String, Int)] = MapPartitionsRDD[8] at flatMap at <console>:37\n",
       "rddArtists: org.apache.spark.rdd.RDD[(String, String)] = MapPartitionsRDD[11] at flatMap at <console>:40\n"
      ]
     },
     "execution_count": 5,
     "metadata": {},
     "output_type": "execute_result"
    }
   ],
   "execution_count": 5
  },
  {
   "metadata": {
    "ExecuteTime": {
     "end_time": "2025-01-23T15:42:52.184098Z",
     "start_time": "2025-01-23T15:42:32.306251Z"
    }
   },
   "cell_type": "code",
   "source": [
    "val rddTracksInPlaylistTracks = rddTrackInPlaylists.keyBy({\n",
    "    case (_, t_uri, _) => t_uri\n",
    "  })\n",
    "  .join(rddTracks.keyBy({ case (t_uri, _, _, _, _, _) => t_uri }\n",
    "  ))\n",
    "  // take all fields of the track, and the playlist PID\n",
    "  .map(x => (x._2._1._1, x._2._2._2, x._2._2._3, x._2._2._4, x._2._2._5, x._2._2._6))\n",
    "val rddTracksInPlaylistTracksArtists = rddTracksInPlaylistTracks.keyBy(_._4)\n",
    "  .join(rddArtists.keyBy(_._1))\n",
    "  // keep all the fields of the track, and the playlist PID and the artist name\n",
    "  .map(x => (x._2._1._1, x._2._1._2, x._2._1._3, x._2._1._4, x._2._1._5, x._2._1._6, x._2._2._2))\n",
    "\n",
    "println(\"conteggio tracce in playlist: \" + rddTracksInPlaylistTracksArtists.count())\n"
   ],
   "id": "3aae4ea7aaf6997a",
   "outputs": [
    {
     "name": "stdout",
     "output_type": "stream",
     "text": [
      "conteggio tracce in playlist: 6600977\n"
     ]
    },
    {
     "data": {
      "text/plain": [
       "rddTracksInPlaylistTracks: org.apache.spark.rdd.RDD[(String, String, Int, String, String, String)] = MapPartitionsRDD[17] at map at <console>:33\n",
       "rddTracksInPlaylistTracksArtists: org.apache.spark.rdd.RDD[(String, String, Int, String, String, String, String)] = MapPartitionsRDD[23] at map at <console>:37\n"
      ]
     },
     "execution_count": 6,
     "metadata": {},
     "output_type": "execute_result"
    }
   ],
   "execution_count": 6
  },
  {
   "metadata": {
    "ExecuteTime": {
     "end_time": "2025-01-23T15:26:17.477438Z",
     "start_time": "2025-01-23T15:25:44.139576Z"
    }
   },
   "cell_type": "code",
   "source": [
    "// (PID, track_name, duration_ms, artist_uri, album_uri, album_name, artist_name)\n",
    "val pidArtistTrack = rddTracksInPlaylistTracksArtists.map(x => ((x._1, x._4), 1))\n",
    "val artistTrackCount = pidArtistTrack\n",
    "  .reduceByKey(_ + _)\n",
    "\n",
    "val pidToArtistTracks = artistTrackCount.map(x => (x._1._1, x._2))\n",
    "// (PID, num_tracks)\n",
    "val averageSongsPerArtist = pidToArtistTracks\n",
    "  .groupByKey() // Raggruppa tutte le playlist\n",
    "  .mapValues { counts =>\n",
    "    val totalArtists = counts.size\n",
    "    val totalTracks = counts.sum\n",
    "    totalTracks.toDouble / totalArtists\n",
    "  }\n",
    "\n",
    "// Calcolo della media complessiva\n",
    "val totalPlaylists = averageSongsPerArtist.count()\n",
    "val sumOfAverages = averageSongsPerArtist.map(_._2).sum()\n",
    "\n",
    "val overallAverage = sumOfAverages / totalPlaylists // Media complessiva\n",
    "\n",
    "// Mostra il risultato\n",
    "println(s\"La media complessiva di canzoni per artista è: $overallAverage\")\n",
    "\n",
    "\n"
   ],
   "id": "11aca052489d192b",
   "outputs": [
    {
     "name": "stdout",
     "output_type": "stream",
     "text": [
      "PLAYLIST: 7000, NewNew, 2\n",
      "La media complessiva di canzoni per artista è: 2.162394557670738\n"
     ]
    },
    {
     "data": {
      "text/plain": [
       "pidArtistTrack: org.apache.spark.rdd.RDD[((String, String), Int)] = MapPartitionsRDD[1014] at map at <console>:35\n",
       "artistTrackCount: org.apache.spark.rdd.RDD[((String, String), Int)] = ShuffledRDD[1015] at reduceByKey at <console>:37\n",
       "pidToArtistTracks: org.apache.spark.rdd.RDD[(String, Int)] = MapPartitionsRDD[1016] at map at <console>:39\n",
       "averageSongsPerArtist: org.apache.spark.rdd.RDD[(String, Double)] = MapPartitionsRDD[1018] at mapValues at <console>:43\n",
       "totalPlaylists: Long = 99000\n",
       "sumOfAverages: Double = 214077.06120940307\n",
       "overallAverage: Double = 2.162394557670738\n"
      ]
     },
     "execution_count": 65,
     "metadata": {},
     "output_type": "execute_result"
    }
   ],
   "execution_count": 65
  },
  {
   "metadata": {},
   "cell_type": "code",
   "outputs": [],
   "execution_count": null,
   "source": "",
   "id": "55523541f9c3b4fd"
  }
 ],
 "metadata": {
  "kernelspec": {
   "display_name": "spylon-kernel",
   "language": "scala",
   "name": "spylon-kernel"
  },
  "language_info": {
   "codemirror_mode": "text/x-scala",
   "file_extension": ".scala",
   "help_links": [
    {
     "text": "MetaKernel Magics",
     "url": "https://metakernel.readthedocs.io/en/latest/source/README.html"
    }
   ],
   "mimetype": "text/x-scala",
   "name": "scala",
   "pygments_lexer": "scala",
   "version": "0.4.1"
  }
 },
 "nbformat": 4,
 "nbformat_minor": 5
}
