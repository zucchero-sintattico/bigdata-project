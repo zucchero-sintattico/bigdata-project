{
 "cells": [
  {
   "metadata": {
    "ExecuteTime": {
     "end_time": "2025-01-21T20:51:17.485733Z",
     "start_time": "2025-01-21T20:50:50.737622Z"
    }
   },
   "cell_type": "code",
   "source": "import org.apache.spark",
   "id": "704415aa2ad0419e",
   "outputs": [
    {
     "data": {
      "text/plain": [
       "Intitializing Scala interpreter ..."
      ]
     },
     "metadata": {},
     "output_type": "display_data"
    },
    {
     "data": {
      "text/plain": [
       "Spark Web UI available at http://LAPTOP-PSTRJPQO.fritz.box:4040\n",
       "SparkContext available as 'sc' (version = 3.5.1, master = local[*], app id = local-1737492665729)\n",
       "SparkSession available as 'spark'\n"
      ]
     },
     "metadata": {},
     "output_type": "display_data"
    },
    {
     "data": {
      "text/plain": [
       "import org.apache.spark\r\n"
      ]
     },
     "execution_count": 1,
     "metadata": {},
     "output_type": "execute_result"
    }
   ],
   "execution_count": 1
  },
  {
   "metadata": {},
   "cell_type": "code",
   "outputs": [],
   "execution_count": null,
   "source": "val sc = spark.SparkContext.getOrCreate()",
   "id": "adcfb3bdf442709a"
  },
  {
   "metadata": {
    "ExecuteTime": {
     "end_time": "2025-01-21T20:51:21.413567Z",
     "start_time": "2025-01-21T20:51:20.344912Z"
    }
   },
   "cell_type": "code",
   "source": [
    "val path_to_datasets = \"../../../datasets/processed\"\n",
    "\n",
    "val path_to_tracks = path_to_datasets + \"/tracks.csv\"\n",
    "val path_to_playlists = path_to_datasets + \"/playlists.csv\"\n",
    "val path_to_track_in_playlists = path_to_datasets + \"/tracks_in_playlist.csv\"\n",
    "val path_to_artists = path_to_datasets + \"/artists.csv\""
   ],
   "id": "2b4186c7affd9f48",
   "outputs": [
    {
     "data": {
      "text/plain": [
       "path_to_datasets: String = ../../../datasets/processed\r\n",
       "path_to_tracks: String = ../../../datasets/processed/tracks.csv\r\n",
       "path_to_playlists: String = ../../../datasets/processed/playlists.csv\r\n",
       "path_to_track_in_playlists: String = ../../../datasets/processed/tracks_in_playlist.csv\r\n",
       "path_to_artists: String = ../../../datasets/processed/artists.csv\r\n"
      ]
     },
     "execution_count": 2,
     "metadata": {},
     "output_type": "execute_result"
    }
   ],
   "execution_count": 2
  },
  {
   "metadata": {
    "ExecuteTime": {
     "end_time": "2025-01-21T20:51:25.226274Z",
     "start_time": "2025-01-21T20:51:23.715752Z"
    }
   },
   "cell_type": "code",
   "source": [
    "object CsvParser {\n",
    "\n",
    "  val noGenresListed = \"(no genres listed)\"\n",
    "  val commaRegex = \",(?=(?:[^\\\"]*\\\"[^\\\"]*\\\")*[^\\\"]*$)\"\n",
    "  val pipeRegex = \"\\\\|(?=(?:[^\\\"]*\\\"[^\\\"]*\\\")*[^\\\"]*$)\"\n",
    "  val quotes = \"\\\"\"\n",
    "\n",
    "\n",
    "  // (PID, playlist_name, num_followers)\n",
    "  def parsePlayListLine(line: String): Option[(String, String, Int)] = {\n",
    "    try {\n",
    "      val input = line.split(commaRegex)\n",
    "      Some(input(0).trim, input(1).trim, input(2).trim.toInt)\n",
    "    } catch {\n",
    "      case _: Exception => None\n",
    "    }\n",
    "  }\n",
    "\n",
    "  // (track_uri, track_name, duration_ms, artist_uri, album_uri, album_name)\n",
    "  def parseTrackLine(line: String): Option[(String, String, Int, String, String, String)] = {\n",
    "    try {\n",
    "      val input = line.split(commaRegex)\n",
    "      Some(input(0).trim, input(1).trim, input(2).trim.toInt, input(3).trim, input(4).trim, input(5).trim)\n",
    "    } catch {\n",
    "      case _: Exception => None\n",
    "    }\n",
    "  }\n",
    "\n",
    "  // (artist_uri, artist_name)\n",
    "  def parseArtistLine(line: String): Option[(String, String)] = {\n",
    "    try {\n",
    "      val input = line.split(commaRegex)\n",
    "      Some(input(0).trim, input(1).trim)\n",
    "    } catch {\n",
    "      case _: Exception => None\n",
    "    }\n",
    "  }\n",
    "\n",
    "  // (PID, track_uri, pos)\n",
    "  def parseTrackInPlaylistLine(line: String): Option[(String, String, Int)] = {\n",
    "    try {\n",
    "      val input = line.split(commaRegex)\n",
    "      Some(input(0).trim, input(1).trim, input(2).trim.toInt)\n",
    "    } catch {\n",
    "      case _: Exception => None\n",
    "    }\n",
    "  }\n",
    "}"
   ],
   "id": "2055b63ab14ea011",
   "outputs": [
    {
     "data": {
      "text/plain": [
       "defined object CsvParser\r\n"
      ]
     },
     "execution_count": 3,
     "metadata": {},
     "output_type": "execute_result"
    }
   ],
   "execution_count": 3
  },
  {
   "metadata": {
    "ExecuteTime": {
     "end_time": "2025-01-21T20:51:31.600094Z",
     "start_time": "2025-01-21T20:51:27.954891Z"
    }
   },
   "cell_type": "code",
   "source": [
    "val rddTracks = sc.textFile(path_to_tracks).\n",
    "  flatMap(CsvParser.parseTrackLine)\n",
    "\n",
    "val rddPlaylists = sc.textFile(path_to_playlists).\n",
    "  flatMap(CsvParser.parsePlayListLine)\n",
    "\n",
    "val rddTrackInPlaylists = sc.textFile(path_to_track_in_playlists).\n",
    "  flatMap(CsvParser.parseTrackInPlaylistLine)\n",
    "\n",
    "val rddArtists = sc.textFile(path_to_artists).\n",
    "  flatMap(CsvParser.parseArtistLine)"
   ],
   "id": "b6fd9a151f40dcab",
   "outputs": [
    {
     "data": {
      "text/plain": [
       "rddTracks: org.apache.spark.rdd.RDD[(String, String, Int, String, String, String)] = MapPartitionsRDD[2] at flatMap at <console>:31\r\n",
       "rddPlaylists: org.apache.spark.rdd.RDD[(String, String, Int)] = MapPartitionsRDD[5] at flatMap at <console>:34\r\n",
       "rddTrackInPlaylists: org.apache.spark.rdd.RDD[(String, String, Int)] = MapPartitionsRDD[8] at flatMap at <console>:37\r\n",
       "rddArtists: org.apache.spark.rdd.RDD[(String, String)] = MapPartitionsRDD[11] at flatMap at <console>:40\r\n"
      ]
     },
     "execution_count": 4,
     "metadata": {},
     "output_type": "execute_result"
    }
   ],
   "execution_count": 4
  },
  {
   "metadata": {
    "ExecuteTime": {
     "end_time": "2025-01-21T20:51:34.699809Z",
     "start_time": "2025-01-21T20:51:33.568221Z"
    }
   },
   "cell_type": "code",
   "source": [
    "val playlistToTracks = rddTrackInPlaylists\n",
    "  .map(x => (x._1, x._2))"
   ],
   "id": "a6dcfc0adb9f7aff",
   "outputs": [
    {
     "data": {
      "text/plain": [
       "playlistToTracks: org.apache.spark.rdd.RDD[(String, String)] = MapPartitionsRDD[12] at map at <console>:26\r\n"
      ]
     },
     "execution_count": 5,
     "metadata": {},
     "output_type": "execute_result"
    }
   ],
   "execution_count": 5
  },
  {
   "metadata": {
    "ExecuteTime": {
     "end_time": "2025-01-21T20:51:40.255689Z",
     "start_time": "2025-01-21T20:51:36.870786Z"
    }
   },
   "cell_type": "code",
   "source": [
    "val coTracksByPlaylist = playlistToTracks\n",
    "  .groupByKey() // Raggruppa le tracce per playlist\n",
    "  .flatMap { case (_, tracks) =>\n",
    "    val trackList = tracks.toList\n",
    "    for {\n",
    "      track <- trackList\n",
    "      coTrack <- trackList if track != coTrack\n",
    "    } yield (track, coTrack) // Genera coppie (track, coTrack)\n",
    "  }"
   ],
   "id": "20616bae24b98378",
   "outputs": [
    {
     "data": {
      "text/plain": [
       "coTracksByPlaylist: org.apache.spark.rdd.RDD[(String, String)] = MapPartitionsRDD[14] at flatMap at <console>:27\r\n"
      ]
     },
     "execution_count": 6,
     "metadata": {},
     "output_type": "execute_result"
    }
   ],
   "execution_count": 6
  },
  {
   "metadata": {
    "ExecuteTime": {
     "end_time": "2025-01-21T20:51:43.142782Z",
     "start_time": "2025-01-21T20:51:41.966858Z"
    }
   },
   "cell_type": "code",
   "source": [
    "val cooccurrenceCounts = coTracksByPlaylist\n",
    "  .map { case (track, coTrack) => (track, Map(coTrack -> 1)) } // Mappa tracce a un conteggio iniziale\n",
    "  .aggregateByKey(Map[String, Int]())(\n",
    "    (acc, value) => { // Combinatore locale\n",
    "      value.foldLeft(acc) { case (map, (coTrack, count)) =>\n",
    "        map + (coTrack -> (map.getOrElse(coTrack, 0) + count))\n",
    "      }\n",
    "    },\n",
    "    (map1, map2) => { // Combinatore globale\n",
    "      map2.foldLeft(map1) { case (map, (coTrack, count)) =>\n",
    "        map + (coTrack -> (map.getOrElse(coTrack, 0) + count))\n",
    "      }\n",
    "    }\n",
    "  )"
   ],
   "id": "f5692f3bbd9beef5",
   "outputs": [
    {
     "data": {
      "text/plain": [
       "cooccurrenceCounts: org.apache.spark.rdd.RDD[(String, scala.collection.immutable.Map[String,Int])] = ShuffledRDD[16] at aggregateByKey at <console>:27\r\n"
      ]
     },
     "execution_count": 7,
     "metadata": {},
     "output_type": "execute_result"
    }
   ],
   "execution_count": 7
  },
  {
   "metadata": {
    "ExecuteTime": {
     "end_time": "2025-01-21T20:51:45.680141Z",
     "start_time": "2025-01-21T20:51:44.725164Z"
    }
   },
   "cell_type": "code",
   "source": [
    "val mostCooccurringTrackPerTrack = cooccurrenceCounts\n",
    "  .mapValues { cooccurrences =>\n",
    "    cooccurrences.maxBy(_._2) // Trova la traccia con il conteggio massimo\n",
    "  }"
   ],
   "id": "15138e6d5850fbe0",
   "outputs": [
    {
     "data": {
      "text/plain": [
       "mostCooccurringTrackPerTrack: org.apache.spark.rdd.RDD[(String, (String, Int))] = MapPartitionsRDD[17] at mapValues at <console>:26\r\n"
      ]
     },
     "execution_count": 8,
     "metadata": {},
     "output_type": "execute_result"
    }
   ],
   "execution_count": 8
  },
  {
   "metadata": {
    "ExecuteTime": {
     "end_time": "2025-01-21T20:54:08.102087Z",
     "start_time": "2025-01-21T20:52:08.454836Z"
    }
   },
   "cell_type": "code",
   "source": [
    "// Mappa i dettagli delle tracce\n",
    "val trackDetail = rddTracks.map(line => (line._1, line._2))\n",
    "\n",
    "// Aggiungi i dettagli\n",
    "val enrichedResults = mostCooccurringTrackPerTrack\n",
    "  .join(trackDetail) // Aggiungi il nome della traccia principale\n",
    "  .map { case (trackUri, ((coTrackUri, count), trackName)) =>\n",
    "    (coTrackUri, (trackUri, trackName, count))\n",
    "  }\n",
    "  .join(trackDetail) // Aggiungi il nome della traccia co-occurrente\n",
    "  .map { case (coTrackUri, ((trackUri, trackName, count), coTrackName)) =>\n",
    "    (trackUri, trackName, coTrackUri, coTrackName, count)\n",
    "  }\n",
    "\n",
    "enrichedResults.saveAsTextFile(\"output/result\")"
   ],
   "id": "c28eabb3b9d53fb9",
   "outputs": [
    {
     "data": {
      "text/plain": [
       "trackDetail: org.apache.spark.rdd.RDD[(String, String)] = MapPartitionsRDD[28] at map at <console>:27\r\n",
       "enrichedResults: org.apache.spark.rdd.RDD[(String, String, String, String, Int)] = MapPartitionsRDD[36] at map at <console>:36\r\n"
      ]
     },
     "execution_count": 10,
     "metadata": {},
     "output_type": "execute_result"
    }
   ],
   "execution_count": 10
  }
 ],
 "metadata": {
  "kernelspec": {
   "display_name": "spylon-kernel",
   "language": "scala",
   "name": "spylon-kernel"
  },
  "language_info": {
   "codemirror_mode": "text/x-scala",
   "file_extension": ".scala",
   "help_links": [
    {
     "text": "MetaKernel Magics",
     "url": "https://metakernel.readthedocs.io/en/latest/source/README.html"
    }
   ],
   "mimetype": "text/x-scala",
   "name": "scala",
   "pygments_lexer": "scala",
   "version": "0.4.1"
  }
 },
 "nbformat": 4,
 "nbformat_minor": 5
}
