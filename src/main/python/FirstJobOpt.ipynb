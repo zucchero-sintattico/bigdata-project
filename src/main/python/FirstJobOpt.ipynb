{
 "cells": [
  {
   "metadata": {
    "ExecuteTime": {
     "end_time": "2025-01-28T17:46:34.555403Z",
     "start_time": "2025-01-28T17:46:28.856829Z"
    }
   },
   "cell_type": "code",
   "source": "import org.apache.spark",
   "id": "ed0887682c35b90f",
   "outputs": [
    {
     "data": {
      "text/plain": [
       "Intitializing Scala interpreter ..."
      ]
     },
     "metadata": {},
     "output_type": "display_data"
    },
    {
     "data": {
      "text/plain": [
       "Spark Web UI available at http://10.201.102.105:4040\n",
       "SparkContext available as 'sc' (version = 3.5.1, master = local[*], app id = local-1738086391068)\n",
       "SparkSession available as 'spark'\n"
      ]
     },
     "metadata": {},
     "output_type": "display_data"
    },
    {
     "data": {
      "text/plain": [
       "import org.apache.spark\n"
      ]
     },
     "execution_count": 1,
     "metadata": {},
     "output_type": "execute_result"
    }
   ],
   "execution_count": 1
  },
  {
   "metadata": {},
   "cell_type": "code",
   "outputs": [],
   "execution_count": null,
   "source": "val sc = spark.SparkContext.getOrCreate()",
   "id": "b23084ff7fb8f501"
  },
  {
   "metadata": {
    "ExecuteTime": {
     "end_time": "2025-01-28T17:46:34.746866Z",
     "start_time": "2025-01-28T17:46:34.574190Z"
    }
   },
   "cell_type": "code",
   "source": [
    "val path_to_datasets = \"../../../datasets/processed\"\n",
    "\n",
    "val path_to_tracks = path_to_datasets + \"/tracks.csv\"\n",
    "val path_to_playlists = path_to_datasets + \"/playlists.csv\"\n",
    "val path_to_track_in_playlists = path_to_datasets + \"/tracks_in_playlist.csv\"\n",
    "val path_to_artists = path_to_datasets + \"/artists.csv\""
   ],
   "id": "dd2e2ec46e698b16",
   "outputs": [
    {
     "data": {
      "text/plain": [
       "path_to_datasets: String = ../../../datasets/processed\n",
       "path_to_tracks: String = ../../../datasets/processed/tracks.csv\n",
       "path_to_playlists: String = ../../../datasets/processed/playlists.csv\n",
       "path_to_track_in_playlists: String = ../../../datasets/processed/tracks_in_playlist.csv\n",
       "path_to_artists: String = ../../../datasets/processed/artists.csv\n"
      ]
     },
     "execution_count": 2,
     "metadata": {},
     "output_type": "execute_result"
    }
   ],
   "execution_count": 2
  },
  {
   "metadata": {
    "ExecuteTime": {
     "end_time": "2025-01-28T17:46:35.024027Z",
     "start_time": "2025-01-28T17:46:34.754033Z"
    }
   },
   "cell_type": "code",
   "source": [
    "object CsvParser {\n",
    "\n",
    "  val noGenresListed = \"(no genres listed)\"\n",
    "  val commaRegex = \",(?=(?:[^\\\"]*\\\"[^\\\"]*\\\")*[^\\\"]*$)\"\n",
    "  val pipeRegex = \"\\\\|(?=(?:[^\\\"]*\\\"[^\\\"]*\\\")*[^\\\"]*$)\"\n",
    "  val quotes = \"\\\"\"\n",
    "\n",
    "  // (PID, playlist_name, num_followers)\n",
    "  def parsePlayListLine(line: String): Option[(String, String, Int)] = {\n",
    "    try {\n",
    "      val input = line.split(commaRegex)\n",
    "      Some(input(0).trim, input(1).trim, input(2).trim.toInt)\n",
    "    } catch {\n",
    "      case _: Exception => None\n",
    "    }\n",
    "  }\n",
    "\n",
    "  // (track_uri, track_name, duration_ms, artist_uri, album_uri, album_name)\n",
    "  def parseTrackLine(line: String): Option[(String, String, Int, String, String, String)] = {\n",
    "    try {\n",
    "      val input = line.split(commaRegex)\n",
    "      Some(input(0).trim, input(1).trim, input(2).trim.toInt, input(3).trim, input(4).trim, input(5).trim)\n",
    "    } catch {\n",
    "      case _: Exception => None\n",
    "    }\n",
    "  }\n",
    "\n",
    "  // (artist_uri, artist_name)\n",
    "  def parseArtistLine(line: String): Option[(String, String)] = {\n",
    "    try {\n",
    "      val input = line.split(commaRegex)\n",
    "      Some(input(0).trim, input(1).trim)\n",
    "    } catch {\n",
    "      case _: Exception => None\n",
    "    }\n",
    "  }\n",
    "\n",
    "  // (PID, track_uri, pos)\n",
    "  def parseTrackInPlaylistLine(line: String): Option[(String, String, Int)] = {\n",
    "    try {\n",
    "      val input = line.split(commaRegex)\n",
    "\n",
    "      Some(input(0).trim, input(1).trim, input(2).trim.toInt)\n",
    "    } catch {\n",
    "      case _: Exception => None\n",
    "    }\n",
    "  }\n",
    "}"
   ],
   "id": "5629fcf9175ed69f",
   "outputs": [
    {
     "data": {
      "text/plain": [
       "defined object CsvParser\n"
      ]
     },
     "execution_count": 3,
     "metadata": {},
     "output_type": "execute_result"
    }
   ],
   "execution_count": 3
  },
  {
   "metadata": {
    "ExecuteTime": {
     "end_time": "2025-01-28T17:46:35.749621Z",
     "start_time": "2025-01-28T17:46:35.030018Z"
    }
   },
   "cell_type": "code",
   "source": [
    "val rddTracks = sc.textFile(path_to_tracks).\n",
    "  flatMap(CsvParser.parseTrackLine)\n",
    "\n",
    "val rddPlaylists = sc.textFile(path_to_playlists).\n",
    "  flatMap(CsvParser.parsePlayListLine)\n",
    "\n",
    "val rddTracksInPlaylist = sc.textFile(path_to_track_in_playlists).\n",
    "  flatMap(CsvParser.parseTrackInPlaylistLine)\n",
    "\n",
    "val rddArtists = sc.textFile(path_to_artists).\n",
    "  flatMap(CsvParser.parseArtistLine)"
   ],
   "id": "9800ecef096e915c",
   "outputs": [
    {
     "data": {
      "text/plain": [
       "rddTracks: org.apache.spark.rdd.RDD[(String, String, Int, String, String, String)] = MapPartitionsRDD[2] at flatMap at <console>:31\n",
       "rddPlaylists: org.apache.spark.rdd.RDD[(String, String, Int)] = MapPartitionsRDD[5] at flatMap at <console>:34\n",
       "rddTracksInPlaylist: org.apache.spark.rdd.RDD[(String, String, Int)] = MapPartitionsRDD[8] at flatMap at <console>:37\n",
       "rddArtists: org.apache.spark.rdd.RDD[(String, String)] = MapPartitionsRDD[11] at flatMap at <console>:40\n"
      ]
     },
     "execution_count": 4,
     "metadata": {},
     "output_type": "execute_result"
    }
   ],
   "execution_count": 4
  },
  {
   "metadata": {
    "ExecuteTime": {
     "end_time": "2025-01-28T17:46:53.442144Z",
     "start_time": "2025-01-28T17:46:35.763571Z"
    }
   },
   "cell_type": "code",
   "source": [
    "import org.apache.spark.HashPartitioner\n",
    "val numPartitions = sc.defaultParallelism\n",
    "// Numero di partizioni, dipende dalle risorse del cluster\n",
    "val partitioner = new HashPartitioner(numPartitions)\n",
    "\n",
    "// Preparazione dei dati per il broadcast\n",
    "val broadcastTracks = sc.broadcast(\n",
    "  rddTracks.map {\n",
    "    case (track_uri, _, _, artist_uri, _, _) => (track_uri, artist_uri)\n",
    "  }.collectAsMap() // Converti in una mappa per lookup efficiente\n",
    ")\n",
    "\n",
    "val broadcastArtists = sc.broadcast(\n",
    "  rddArtists.map {\n",
    "    case (artist_uri, artist_name) => (artist_uri, artist_name)\n",
    "  }.collectAsMap() // Converti in una mappa per lookup efficiente\n",
    ")\n",
    "\n",
    "// Trasformazione principale con broadcast join\n",
    "val rddPidArtistNTracks = rddTracksInPlaylist\n",
    "  .mapPartitions { iter =>\n",
    "    val tracksMap = broadcastTracks.value // Accesso alla mappa broadcast\n",
    "    val artistsMap = broadcastArtists.value // Accesso alla mappa broadcast\n",
    "\n",
    "    iter.flatMap {\n",
    "      case (pid, track_uri, _) =>\n",
    "        tracksMap.get(track_uri) match {\n",
    "          case Some(artist_uri) =>\n",
    "            artistsMap.get(artist_uri) match {\n",
    "              case Some(_) => Some(((pid, artist_uri), 1)) // Solo se l'artista esiste\n",
    "              case None => None\n",
    "            }\n",
    "          case None => None\n",
    "        }\n",
    "    }\n",
    "  }\n",
    "\n",
    "// Partizionamento e caching\n",
    "val rddPidArtistNTracksPartitioned = rddPidArtistNTracks\n",
    "  .partitionBy(partitioner)\n",
    "\n"
   ],
   "id": "14b3d2aa4ec743c6",
   "outputs": [
    {
     "name": "stdout",
     "output_type": "stream",
     "text": [
      "((0,spotify:artist:2wIVse2owClT7go1WT98tk),1)\n"
     ]
    },
    {
     "data": {
      "text/plain": [
       "import org.apache.spark.HashPartitioner\n",
       "numPartitions: Int = 8\n",
       "partitioner: org.apache.spark.HashPartitioner = org.apache.spark.HashPartitioner@8\n",
       "broadcastTracks: org.apache.spark.broadcast.Broadcast[scala.collection.Map[String,String]] = Broadcast(5)\n",
       "broadcastArtists: org.apache.spark.broadcast.Broadcast[scala.collection.Map[String,String]] = Broadcast(7)\n",
       "rddPidArtistNTracks: org.apache.spark.rdd.RDD[((String, String), Int)] = MapPartitionsRDD[14] at mapPartitions at <console>:48\n",
       "rddPidArtistNTracksPartitioned: org.apache.spark.rdd.RDD[((String, String), Int)] = ShuffledRDD[15] at partitionBy at <console>:69\n",
       "res0: ((String, String), Int) = ((0,spotify:artist:6vWDO969PvNqNYHIOW5v0m),1)\n"
      ]
     },
     "execution_count": 5,
     "metadata": {},
     "output_type": "execute_result"
    }
   ],
   "execution_count": 5
  },
  {
   "metadata": {
    "ExecuteTime": {
     "end_time": "2025-01-28T17:47:13.874799Z",
     "start_time": "2025-01-28T17:46:57.878541Z"
    }
   },
   "cell_type": "code",
   "source": [
    "val artistTrackCount = rddPidArtistNTracksPartitioned.reduceByKey(_ + _) // (PID, artist_uri) -> conteggio\n",
    "\n",
    "// Calcolo della somma e del conteggio per ogni playlist\n",
    "val pidToArtistTracks = artistTrackCount.map(x => (x._1._1, x._2)) // PID -> conteggio\n",
    "\n",
    "val averageSongsPerArtist = pidToArtistTracks.aggregateByKey((0, 0))(\n",
    "  // Combina localmente (somma parziale e conteggio)\n",
    "  (acc, value) => (acc._1 + value, acc._2 + 1),\n",
    "  // Combina globalmente i risultati delle partizioni\n",
    "  (acc1, acc2) => (acc1._1 + acc2._1, acc1._2 + acc2._2)\n",
    ").mapValues { case (totalTracks, totalArtists) =>\n",
    "  totalTracks.toDouble / totalArtists\n",
    "}\n",
    "\n",
    "// Calcolo della media complessiva\n",
    "val (sumOfAverages, totalPlaylists) = averageSongsPerArtist.mapPartitions(iter => {\n",
    "  var sum = 0.0\n",
    "  var count = 0L\n",
    "  iter.foreach {\n",
    "    case (_, avg) =>\n",
    "      sum += avg\n",
    "      count += 1\n",
    "  }\n",
    "  Iterator((sum, count))\n",
    "}).reduce {\n",
    "  case ((sum1, count1), (sum2, count2)) =>\n",
    "    (sum1 + sum2, count1 + count2)\n",
    "}\n",
    "\n",
    "val overallAverage = sumOfAverages / totalPlaylists\n",
    "\n"
   ],
   "id": "6148fe0c40268610",
   "outputs": [
    {
     "data": {
      "text/plain": [
       "artistTrackCount: org.apache.spark.rdd.RDD[((String, String), Int)] = MapPartitionsRDD[16] at reduceByKey at <console>:26\n",
       "pidToArtistTracks: org.apache.spark.rdd.RDD[(String, Int)] = MapPartitionsRDD[17] at map at <console>:29\n",
       "averageSongsPerArtist: org.apache.spark.rdd.RDD[(String, Double)] = MapPartitionsRDD[19] at mapValues at <console>:36\n",
       "sumOfAverages: Double = 429654.73025031225\n",
       "totalPlaylists: Long = 199000\n",
       "overallAverage: Double = 2.1590689962327247\n"
      ]
     },
     "execution_count": 6,
     "metadata": {},
     "output_type": "execute_result"
    }
   ],
   "execution_count": 6
  },
  {
   "metadata": {
    "ExecuteTime": {
     "end_time": "2025-01-28T17:47:14.141507Z",
     "start_time": "2025-01-28T17:47:13.981288Z"
    }
   },
   "cell_type": "code",
   "source": [
    "// empty cache\n",
    "sc.getPersistentRDDs.foreach(_._2.unpersist())"
   ],
   "id": "c855c285c3283eb3",
   "outputs": [],
   "execution_count": 7
  }
 ],
 "metadata": {
  "kernelspec": {
   "display_name": "spylon-kernel",
   "language": "scala",
   "name": "spylon-kernel"
  },
  "language_info": {
   "codemirror_mode": "text/x-scala",
   "file_extension": ".scala",
   "help_links": [
    {
     "text": "MetaKernel Magics",
     "url": "https://metakernel.readthedocs.io/en/latest/source/README.html"
    }
   ],
   "mimetype": "text/x-scala",
   "name": "scala",
   "pygments_lexer": "scala",
   "version": "0.4.1"
  }
 },
 "nbformat": 4,
 "nbformat_minor": 5
}
