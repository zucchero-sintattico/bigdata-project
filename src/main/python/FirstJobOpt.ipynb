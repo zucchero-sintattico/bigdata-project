{
 "cells": [
  {
   "metadata": {
    "ExecuteTime": {
     "end_time": "2025-01-22T15:33:23.854469Z",
     "start_time": "2025-01-22T15:33:17.622115Z"
    }
   },
   "cell_type": "code",
   "source": "import org.apache.spark",
   "id": "ed0887682c35b90f",
   "outputs": [
    {
     "data": {
      "text/plain": [
       "Intitializing Scala interpreter ..."
      ]
     },
     "metadata": {},
     "output_type": "display_data"
    },
    {
     "data": {
      "text/plain": [
       "Spark Web UI available at http://10.201.102.32:4040\n",
       "SparkContext available as 'sc' (version = 3.5.1, master = local[*], app id = local-1737559999714)\n",
       "SparkSession available as 'spark'\n"
      ]
     },
     "metadata": {},
     "output_type": "display_data"
    },
    {
     "data": {
      "text/plain": [
       "import org.apache.spark\n"
      ]
     },
     "execution_count": 1,
     "metadata": {},
     "output_type": "execute_result"
    }
   ],
   "execution_count": 1
  },
  {
   "metadata": {},
   "cell_type": "code",
   "outputs": [],
   "execution_count": null,
   "source": "val sc = spark.SparkContext.getOrCreate()",
   "id": "b23084ff7fb8f501"
  },
  {
   "metadata": {
    "ExecuteTime": {
     "end_time": "2025-01-22T15:33:24.278818Z",
     "start_time": "2025-01-22T15:33:24.108393Z"
    }
   },
   "cell_type": "code",
   "source": [
    "val path_to_datasets = \"../../../datasets/processed\"\n",
    "\n",
    "val path_to_tracks = path_to_datasets + \"/tracks.csv\"\n",
    "val path_to_playlists = path_to_datasets + \"/playlists.csv\"\n",
    "val path_to_track_in_playlists = path_to_datasets + \"/tracks_in_playlist.csv\"\n",
    "val path_to_artists = path_to_datasets + \"/artists.csv\""
   ],
   "id": "dd2e2ec46e698b16",
   "outputs": [
    {
     "data": {
      "text/plain": [
       "path_to_datasets: String = ../../../datasets/processed\n",
       "path_to_tracks: String = ../../../datasets/processed/tracks.csv\n",
       "path_to_playlists: String = ../../../datasets/processed/playlists.csv\n",
       "path_to_track_in_playlists: String = ../../../datasets/processed/tracks_in_playlist.csv\n",
       "path_to_artists: String = ../../../datasets/processed/artists.csv\n"
      ]
     },
     "execution_count": 3,
     "metadata": {},
     "output_type": "execute_result"
    }
   ],
   "execution_count": 3
  },
  {
   "metadata": {
    "ExecuteTime": {
     "end_time": "2025-01-22T15:33:44.092089Z",
     "start_time": "2025-01-22T15:33:43.767223Z"
    }
   },
   "cell_type": "code",
   "source": [
    "object CsvParser {\n",
    "\n",
    "  val noGenresListed = \"(no genres listed)\"\n",
    "  val commaRegex = \",(?=(?:[^\\\"]*\\\"[^\\\"]*\\\")*[^\\\"]*$)\"\n",
    "  val pipeRegex = \"\\\\|(?=(?:[^\\\"]*\\\"[^\\\"]*\\\")*[^\\\"]*$)\"\n",
    "  val quotes = \"\\\"\"\n",
    "\n",
    "  // (PID, playlist_name, num_followers)\n",
    "  def parsePlayListLine(line: String): Option[(String, String, Int)] = {\n",
    "    try {\n",
    "      val input = line.split(commaRegex)\n",
    "      Some(input(0).trim, input(1).trim, input(2).trim.toInt)\n",
    "    } catch {\n",
    "      case _: Exception => None\n",
    "    }\n",
    "  }\n",
    "\n",
    "  // (track_uri, track_name, duration_ms, artist_uri, album_uri, album_name)\n",
    "  def parseTrackLine(line: String): Option[(String, String, Int, String, String, String)] = {\n",
    "    try {\n",
    "      val input = line.split(commaRegex)\n",
    "      Some(input(0).trim, input(1).trim, input(2).trim.toInt, input(3).trim, input(4).trim, input(5).trim)\n",
    "    } catch {\n",
    "      case _: Exception => None\n",
    "    }\n",
    "  }\n",
    "\n",
    "  // (artist_uri, artist_name)\n",
    "  def parseArtistLine(line: String): Option[(String, String)] = {\n",
    "    try {\n",
    "      val input = line.split(commaRegex)\n",
    "      Some(input(0).trim, input(1).trim)\n",
    "    } catch {\n",
    "      case _: Exception => None\n",
    "    }\n",
    "  }\n",
    "\n",
    "  // (PID, track_uri, pos)\n",
    "  def parseTrackInPlaylistLine(line: String): Option[(String, String, Int)] = {\n",
    "    try {\n",
    "      val input = line.split(commaRegex)\n",
    "      Some(input(0).trim, input(1).trim, input(2).trim.toInt)\n",
    "    } catch {\n",
    "      case _: Exception => None\n",
    "    }\n",
    "  }\n",
    "}"
   ],
   "id": "5629fcf9175ed69f",
   "outputs": [
    {
     "data": {
      "text/plain": [
       "defined object CsvParser\n"
      ]
     },
     "execution_count": 4,
     "metadata": {},
     "output_type": "execute_result"
    }
   ],
   "execution_count": 4
  },
  {
   "metadata": {
    "ExecuteTime": {
     "end_time": "2025-01-22T15:33:51.053861Z",
     "start_time": "2025-01-22T15:33:47.297283Z"
    }
   },
   "cell_type": "code",
   "source": [
    "val rddTracks = sc.textFile(path_to_tracks).\n",
    "  flatMap(CsvParser.parseTrackLine)\n",
    "\n",
    "val rddPlaylists = sc.textFile(path_to_playlists).\n",
    "  flatMap(CsvParser.parsePlayListLine)\n",
    "\n",
    "val rddTrackInPlaylists = sc.textFile(path_to_track_in_playlists).\n",
    "  flatMap(CsvParser.parseTrackInPlaylistLine)\n",
    "\n",
    "val rddArtists = sc.textFile(path_to_artists).\n",
    "  flatMap(CsvParser.parseArtistLine)"
   ],
   "id": "9800ecef096e915c",
   "outputs": [
    {
     "data": {
      "text/plain": [
       "rddTracks: org.apache.spark.rdd.RDD[(String, String, Int, String, String, String)] = MapPartitionsRDD[2] at flatMap at <console>:31\n",
       "rddPlaylists: org.apache.spark.rdd.RDD[(String, String, Int)] = MapPartitionsRDD[5] at flatMap at <console>:34\n",
       "rddTrackInPlaylists: org.apache.spark.rdd.RDD[(String, String, Int)] = MapPartitionsRDD[8] at flatMap at <console>:37\n",
       "rddArtists: org.apache.spark.rdd.RDD[(String, String)] = MapPartitionsRDD[11] at flatMap at <console>:40\n"
      ]
     },
     "execution_count": 5,
     "metadata": {},
     "output_type": "execute_result"
    }
   ],
   "execution_count": 5
  },
  {
   "metadata": {
    "ExecuteTime": {
     "end_time": "2025-01-22T15:35:26.456586Z",
     "start_time": "2025-01-22T15:35:25.605689Z"
    }
   },
   "cell_type": "code",
   "source": [
    "import org.apache.spark.HashPartitioner\n",
    "val numPartitions = 8 // Numero di partizioni, dipende dalle risorse del cluster\n",
    "val partitioner = new HashPartitioner(8)\n",
    "\n",
    "val rddTrackInPlaylistsPartitioned = rddTrackInPlaylists.keyBy(_._1).partitionBy(partitioner)\n",
    "val rddTracksPartitioned = rddTracks.keyBy(_._1).partitionBy(partitioner)\n",
    "val rddArtistsPartitioned = rddArtists.keyBy(_._1).partitionBy(partitioner)\n",
    "\n",
    "val rddTracksInPlaylistTracks = rddTrackInPlaylistsPartitioned\n",
    "  .join(rddTracksPartitioned)\n",
    "  .map { case (_, (pid, track)) =>\n",
    "    (pid, track._2, track._3, track._4, track._5, track._6)\n",
    "  }\n",
    "\n",
    "val rddTracksInPlaylistTracksArtists = rddTracksInPlaylistTracks.keyBy(_._4)\n",
    "  .join(rddArtistsPartitioned)\n",
    "  .map { case (_, (track, artist)) =>\n",
    "    (track._1, track._2, track._3, artist._2)\n",
    "  }\n",
    "\n"
   ],
   "id": "14b3d2aa4ec743c6",
   "outputs": [
    {
     "data": {
      "text/plain": [
       "import org.apache.spark.HashPartitioner\n",
       "numPartitions: Int = 8\n",
       "partitioner: org.apache.spark.HashPartitioner = org.apache.spark.HashPartitioner@8\n",
       "rddTrackInPlaylistsPartitioned: org.apache.spark.rdd.RDD[(String, (String, String, Int))] = ShuffledRDD[34] at partitionBy at <console>:37\n",
       "rddTracksPartitioned: org.apache.spark.rdd.RDD[(String, (String, String, Int, String, String, String))] = ShuffledRDD[36] at partitionBy at <console>:38\n",
       "rddArtistsPartitioned: org.apache.spark.rdd.RDD[(String, (String, String))] = ShuffledRDD[38] at partitionBy at <console>:39\n",
       "rddTracksInPlaylistTracks: org.apache.spark.rdd.RDD[((String, String, Int), String, Int, String, String, String)] = MapPartitionsRDD[42] at map at <console>:43\n",
       "rddTracksInPlaylistTracksArtists: org.apache.spark.rdd.RDD[((String, Strin...\n"
      ]
     },
     "execution_count": 8,
     "metadata": {},
     "output_type": "execute_result"
    }
   ],
   "execution_count": 8
  },
  {
   "metadata": {
    "ExecuteTime": {
     "end_time": "2025-01-22T15:34:42.925972Z",
     "start_time": "2025-01-22T15:34:18.529060Z"
    }
   },
   "cell_type": "code",
   "source": [
    "val pidArtistTrack = rddTracksInPlaylistTracksArtists\n",
    "  .map(x => ((x._1, x._4), 1))\n",
    "\n",
    "// Passo 1: Calcolo del numero totale di brani per ogni artista in ogni playlist\n",
    "val artistTrackCount = pidArtistTrack.reduceByKey(_ + _)\n",
    "\n",
    "// Passo 2: Calcolo della somma e del conteggio per ogni playlist\n",
    "val pidToArtistTracks = artistTrackCount.map(x => (x._1._1, x._2))\n",
    "\n",
    "val averageSongsPerArtist = pidToArtistTracks.aggregateByKey((0, 0))(\n",
    "  // Combina localmente (somma parziale e conteggio)\n",
    "  (acc, value) => (acc._1 + value, acc._2 + 1),\n",
    "  // Combina globalmente i risultati delle partizioni\n",
    "  (acc1, acc2) => (acc1._1 + acc2._1, acc1._2 + acc2._2)\n",
    ").mapValues { case (totalTracks, totalArtists) =>\n",
    "  totalTracks.toDouble / totalArtists\n",
    "}\n",
    "\n",
    "// Passo 3: Calcolo della media complessiva\n",
    "val totalPlaylists = averageSongsPerArtist.count() // Numero totale di playlist\n",
    "val sumOfAverages = averageSongsPerArtist.map(_._2).sum() // Somma di tutte le medie\n",
    "\n",
    "val overallAverage = sumOfAverages / totalPlaylists // Media complessiva\n"
   ],
   "id": "6148fe0c40268610",
   "outputs": [
    {
     "data": {
      "text/plain": [
       "pidArtistTrack: org.apache.spark.rdd.RDD[(((String, String, Int), String), Int)] = MapPartitionsRDD[27] at map at <console>:26\n",
       "artistTrackCount: org.apache.spark.rdd.RDD[(((String, String, Int), String), Int)] = ShuffledRDD[28] at reduceByKey at <console>:29\n",
       "pidToArtistTracks: org.apache.spark.rdd.RDD[((String, String, Int), Int)] = MapPartitionsRDD[29] at map at <console>:32\n",
       "averageSongsPerArtist: org.apache.spark.rdd.RDD[((String, String, Int), Double)] = MapPartitionsRDD[31] at mapValues at <console>:39\n",
       "totalPlaylists: Long = 0\n",
       "sumOfAverages: Double = 0.0\n",
       "overallAverage: Double = NaN\n"
      ]
     },
     "execution_count": 7,
     "metadata": {},
     "output_type": "execute_result"
    }
   ],
   "execution_count": 7
  },
  {
   "metadata": {
    "ExecuteTime": {
     "end_time": "2025-01-22T13:35:03.916398Z",
     "start_time": "2025-01-22T13:35:03.915335Z"
    }
   },
   "cell_type": "code",
   "source": "",
   "id": "c4ecaaee416a1eba",
   "outputs": [],
   "execution_count": null
  }
 ],
 "metadata": {
  "kernelspec": {
   "display_name": "spylon-kernel",
   "language": "scala",
   "name": "spylon-kernel"
  },
  "language_info": {
   "codemirror_mode": "text/x-scala",
   "file_extension": ".scala",
   "help_links": [
    {
     "text": "MetaKernel Magics",
     "url": "https://metakernel.readthedocs.io/en/latest/source/README.html"
    }
   ],
   "mimetype": "text/x-scala",
   "name": "scala",
   "pygments_lexer": "scala",
   "version": "0.4.1"
  }
 },
 "nbformat": 4,
 "nbformat_minor": 5
}
