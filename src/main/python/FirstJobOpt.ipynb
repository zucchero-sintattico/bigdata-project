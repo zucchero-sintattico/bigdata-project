{
 "cells": [
  {
   "metadata": {
    "ExecuteTime": {
     "end_time": "2025-01-22T17:40:30.343641Z",
     "start_time": "2025-01-22T17:40:25.576676Z"
    }
   },
   "cell_type": "code",
   "source": "import org.apache.spark",
   "id": "ed0887682c35b90f",
   "outputs": [
    {
     "data": {
      "text/plain": [
       "Intitializing Scala interpreter ..."
      ]
     },
     "metadata": {},
     "output_type": "display_data"
    },
    {
     "data": {
      "text/plain": [
       "Spark Web UI available at http://10.201.102.32:4040\n",
       "SparkContext available as 'sc' (version = 3.5.1, master = local[*], app id = local-1737567627354)\n",
       "SparkSession available as 'spark'\n"
      ]
     },
     "metadata": {},
     "output_type": "display_data"
    },
    {
     "data": {
      "text/plain": [
       "import org.apache.spark\n"
      ]
     },
     "execution_count": 1,
     "metadata": {},
     "output_type": "execute_result"
    }
   ],
   "execution_count": 1
  },
  {
   "metadata": {},
   "cell_type": "code",
   "outputs": [],
   "execution_count": null,
   "source": "val sc = spark.SparkContext.getOrCreate()",
   "id": "b23084ff7fb8f501"
  },
  {
   "metadata": {
    "ExecuteTime": {
     "end_time": "2025-01-22T17:40:30.531157Z",
     "start_time": "2025-01-22T17:40:30.364015Z"
    }
   },
   "cell_type": "code",
   "source": [
    "val path_to_datasets = \"../../../datasets/processed\"\n",
    "\n",
    "val path_to_tracks = path_to_datasets + \"/tracks.csv\"\n",
    "val path_to_playlists = path_to_datasets + \"/playlists.csv\"\n",
    "val path_to_track_in_playlists = path_to_datasets + \"/tracks_in_playlist.csv\"\n",
    "val path_to_artists = path_to_datasets + \"/artists.csv\""
   ],
   "id": "dd2e2ec46e698b16",
   "outputs": [
    {
     "data": {
      "text/plain": [
       "path_to_datasets: String = ../../../datasets/processed\n",
       "path_to_tracks: String = ../../../datasets/processed/tracks.csv\n",
       "path_to_playlists: String = ../../../datasets/processed/playlists.csv\n",
       "path_to_track_in_playlists: String = ../../../datasets/processed/tracks_in_playlist.csv\n",
       "path_to_artists: String = ../../../datasets/processed/artists.csv\n"
      ]
     },
     "execution_count": 2,
     "metadata": {},
     "output_type": "execute_result"
    }
   ],
   "execution_count": 2
  },
  {
   "metadata": {
    "ExecuteTime": {
     "end_time": "2025-01-22T17:40:30.832047Z",
     "start_time": "2025-01-22T17:40:30.547978Z"
    }
   },
   "cell_type": "code",
   "source": [
    "object CsvParser {\n",
    "\n",
    "  val noGenresListed = \"(no genres listed)\"\n",
    "  val commaRegex = \",(?=(?:[^\\\"]*\\\"[^\\\"]*\\\")*[^\\\"]*$)\"\n",
    "  val pipeRegex = \"\\\\|(?=(?:[^\\\"]*\\\"[^\\\"]*\\\")*[^\\\"]*$)\"\n",
    "  val quotes = \"\\\"\"\n",
    "\n",
    "  // (PID, playlist_name, num_followers)\n",
    "  def parsePlayListLine(line: String): Option[(String, String, Int)] = {\n",
    "    try {\n",
    "      val input = line.split(commaRegex)\n",
    "      Some(input(0).trim, input(1).trim, input(2).trim.toInt)\n",
    "    } catch {\n",
    "      case _: Exception => None\n",
    "    }\n",
    "  }\n",
    "\n",
    "  // (track_uri, track_name, duration_ms, artist_uri, album_uri, album_name)\n",
    "  def parseTrackLine(line: String): Option[(String, String, Int, String, String, String)] = {\n",
    "    try {\n",
    "      val input = line.split(commaRegex)\n",
    "      Some(input(0).trim, input(1).trim, input(2).trim.toInt, input(3).trim, input(4).trim, input(5).trim)\n",
    "    } catch {\n",
    "      case _: Exception => None\n",
    "    }\n",
    "  }\n",
    "\n",
    "  // (artist_uri, artist_name)\n",
    "  def parseArtistLine(line: String): Option[(String, String)] = {\n",
    "    try {\n",
    "      val input = line.split(commaRegex)\n",
    "      Some(input(0).trim, input(1).trim)\n",
    "    } catch {\n",
    "      case _: Exception => None\n",
    "    }\n",
    "  }\n",
    "\n",
    "  // (PID, track_uri, pos)\n",
    "  def parseTrackInPlaylistLine(line: String): Option[(String, String, Int)] = {\n",
    "    try {\n",
    "      val input = line.split(commaRegex)\n",
    "      Some(input(0).trim, input(1).trim, input(2).trim.toInt)\n",
    "    } catch {\n",
    "      case _: Exception => None\n",
    "    }\n",
    "  }\n",
    "}"
   ],
   "id": "5629fcf9175ed69f",
   "outputs": [
    {
     "data": {
      "text/plain": [
       "defined object CsvParser\n"
      ]
     },
     "execution_count": 3,
     "metadata": {},
     "output_type": "execute_result"
    }
   ],
   "execution_count": 3
  },
  {
   "metadata": {
    "ExecuteTime": {
     "end_time": "2025-01-22T17:40:31.541330Z",
     "start_time": "2025-01-22T17:40:30.848363Z"
    }
   },
   "cell_type": "code",
   "source": [
    "val rddTracks = sc.textFile(path_to_tracks).\n",
    "  flatMap(CsvParser.parseTrackLine)\n",
    "\n",
    "val rddPlaylists = sc.textFile(path_to_playlists).\n",
    "  flatMap(CsvParser.parsePlayListLine)\n",
    "\n",
    "val rddTrackInPlaylists = sc.textFile(path_to_track_in_playlists).\n",
    "  flatMap(CsvParser.parseTrackInPlaylistLine)\n",
    "\n",
    "val rddArtists = sc.textFile(path_to_artists).\n",
    "  flatMap(CsvParser.parseArtistLine)"
   ],
   "id": "9800ecef096e915c",
   "outputs": [
    {
     "data": {
      "text/plain": [
       "rddTracks: org.apache.spark.rdd.RDD[(String, String, Int, String, String, String)] = MapPartitionsRDD[2] at flatMap at <console>:31\n",
       "rddPlaylists: org.apache.spark.rdd.RDD[(String, String, Int)] = MapPartitionsRDD[5] at flatMap at <console>:34\n",
       "rddTrackInPlaylists: org.apache.spark.rdd.RDD[(String, String, Int)] = MapPartitionsRDD[8] at flatMap at <console>:37\n",
       "rddArtists: org.apache.spark.rdd.RDD[(String, String)] = MapPartitionsRDD[11] at flatMap at <console>:40\n"
      ]
     },
     "execution_count": 4,
     "metadata": {},
     "output_type": "execute_result"
    }
   ],
   "execution_count": 4
  },
  {
   "metadata": {
    "jupyter": {
     "is_executing": true
    },
    "ExecuteTime": {
     "end_time": "2025-01-22T17:41:46.724908Z",
     "start_time": "2025-01-22T17:40:31.552775Z"
    }
   },
   "cell_type": "code",
   "source": [
    "import org.apache.spark.HashPartitioner\n",
    "val numPartitions = 4 // Numero di partizioni, dipende dalle risorse del cluster\n",
    "val partitioner = new HashPartitioner(numPartitions)\n",
    "\n",
    "val rddTrackInPlaylistsPartitioned = rddTrackInPlaylists.keyBy(_._2)\n",
    "  .partitionBy(partitioner)\n",
    "val rddTracksPartitioned = rddTracks.keyBy(_._1).partitionBy(partitioner)\n",
    "val rddArtistsPartitioned = rddArtists.keyBy(_._1).partitionBy(partitioner)\n",
    "\n",
    "val rddTracksInPlaylistTracks = rddTracksPartitioned\n",
    "  .join(rddTrackInPlaylistsPartitioned)\n",
    "  .map { case (_, (track, tip)) => (\n",
    "    track._4, // artist_uri\n",
    "    (tip._1, // PID\n",
    "      track._1, // track_uri\n",
    "      track._2, // track_name\n",
    "      track._3, // duration_ms\n",
    "      track._5, // album_uri\n",
    "      track._6) // album_name\n",
    "  )\n",
    "  }.cache()\n",
    "\n",
    "//println(\"Numero di tracce in playlist: \" + rddTracksInPlaylistTracks.first())\n",
    "\n",
    "//println(\"Numero di tracce in playlist: \" + rddTracksInPlaylistTracks.count())\n",
    "\n",
    "// QUESTA JOIN DA PROBLEMI MA PERCHEEEE\n",
    "val rddTracksInPlaylistTracksArtists = rddArtistsPartitioned.join(rddTracksInPlaylistTracks).map {\n",
    "  case (artist_uri, (artist_name, (pid, track_uri, track_name, duration_ms, album_uri, album_name))) => (pid, track_name, duration_ms, artist_uri, album_uri, album_name, artist_name)\n",
    "}\n",
    "\n",
    "println(\"Numero di tracce in playlist con artisti: \" + rddTracksInPlaylistTracksArtists.first())\n",
    "\n"
   ],
   "id": "14b3d2aa4ec743c6",
   "outputs": [],
   "execution_count": null
  },
  {
   "metadata": {
    "ExecuteTime": {
     "end_time": "2025-01-22T15:46:17.762987Z",
     "start_time": "2025-01-22T15:45:56.697469Z"
    }
   },
   "cell_type": "code",
   "source": [
    "val pidArtistTrack = rddTracksInPlaylistTracksArtists\n",
    "  .map({\n",
    "    case (pid, _, _, artist) => ((pid, artist), 1)\n",
    "  })\n",
    "println(pidArtistTrack.count())\n",
    "\n",
    "// Passo 1: Calcolo del numero totale di brani per ogni artista in ogni playlist\n",
    "val artistTrackCount = pidArtistTrack.reduceByKey(_ + _)\n",
    "\n",
    "// Passo 2: Calcolo della somma e del conteggio per ogni playlist\n",
    "val pidToArtistTracks = artistTrackCount.map(\n",
    "  {\n",
    "    case ((pid, _), count) => (pid, count)\n",
    "  }\n",
    ")\n",
    "\n",
    "println(pidToArtistTracks.count())\n"
   ],
   "id": "6148fe0c40268610",
   "outputs": [
    {
     "name": "stdout",
     "output_type": "stream",
     "text": [
      "0\n",
      "0\n"
     ]
    },
    {
     "data": {
      "text/plain": [
       "pidArtistTrack: org.apache.spark.rdd.RDD[((String, String), Int)] = MapPartitionsRDD[90] at map at <console>:36\n",
       "artistTrackCount: org.apache.spark.rdd.RDD[((String, String), Int)] = ShuffledRDD[91] at reduceByKey at <console>:42\n",
       "pidToArtistTracks: org.apache.spark.rdd.RDD[(String, Int)] = MapPartitionsRDD[92] at map at <console>:45\n"
      ]
     },
     "execution_count": 15,
     "metadata": {},
     "output_type": "execute_result"
    }
   ],
   "execution_count": 15
  },
  {
   "metadata": {
    "ExecuteTime": {
     "end_time": "2025-01-22T13:35:03.916398Z",
     "start_time": "2025-01-22T13:35:03.915335Z"
    }
   },
   "cell_type": "code",
   "source": "",
   "id": "c4ecaaee416a1eba",
   "outputs": [],
   "execution_count": null
  }
 ],
 "metadata": {
  "kernelspec": {
   "display_name": "spylon-kernel",
   "language": "scala",
   "name": "spylon-kernel"
  },
  "language_info": {
   "codemirror_mode": "text/x-scala",
   "file_extension": ".scala",
   "help_links": [
    {
     "text": "MetaKernel Magics",
     "url": "https://metakernel.readthedocs.io/en/latest/source/README.html"
    }
   ],
   "mimetype": "text/x-scala",
   "name": "scala",
   "pygments_lexer": "scala",
   "version": "0.4.1"
  }
 },
 "nbformat": 4,
 "nbformat_minor": 5
}
