{
 "cells": [
  {
   "cell_type": "code",
   "execution_count": null,
   "id": "990d985c-c9e8-49c0-abbe-789ed7fe90cc",
   "metadata": {},
   "outputs": [],
   "source": []
  }
 ],
 "metadata": {
  "kernelspec": {
   "display_name": "",
   "name": ""
  },
  "language_info": {
   "name": ""
  }
 },
 "nbformat": 4,
 "nbformat_minor": 5
}
