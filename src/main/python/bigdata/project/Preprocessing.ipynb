{
 "cells": [
  {
   "cell_type": "code",
   "id": "initial_id",
   "metadata": {
    "collapsed": true,
    "jupyter": {
     "outputs_hidden": true
    },
    "ExecuteTime": {
     "end_time": "2025-01-08T17:42:40.451536Z",
     "start_time": "2025-01-08T17:42:19.317879Z"
    }
   },
   "source": "import org.apache.spark",
   "outputs": [
    {
     "data": {
      "text/plain": [
       "Intitializing Scala interpreter ..."
      ]
     },
     "metadata": {},
     "output_type": "display_data"
    },
    {
     "data": {
      "text/plain": [
       "Spark Web UI available at http://LAPTOP-PSTRJPQO:4040\n",
       "SparkContext available as 'sc' (version = 3.5.1, master = local[*], app id = local-1736358148633)\n",
       "SparkSession available as 'spark'\n"
      ]
     },
     "metadata": {},
     "output_type": "display_data"
    },
    {
     "data": {
      "text/plain": [
       "import org.apache.spark\r\n"
      ]
     },
     "execution_count": 1,
     "metadata": {},
     "output_type": "execute_result"
    }
   ],
   "execution_count": 1
  },
  {
   "cell_type": "code",
   "execution_count": null,
   "id": "d236a1650f127d84",
   "metadata": {},
   "outputs": [],
   "source": [
    "// DO NOT EXECUTE - this is needed just to avoid showing errors in the following cells\n",
    "val sc = spark.SparkContext.getOrCreate()"
   ]
  },
  {
   "metadata": {
    "ExecuteTime": {
     "end_time": "2025-01-08T16:09:34.961184Z",
     "start_time": "2025-01-08T16:09:34.592637Z"
    }
   },
   "cell_type": "code",
   "source": "val path_to_datasets = \"../../../datasets/spotify/data/\"",
   "id": "5a4252c33e083aa9",
   "outputs": [
    {
     "data": {
      "text/plain": [
       "path_to_datasets: String = ../../../datasets/spotify/data/\n"
      ]
     },
     "execution_count": 3,
     "metadata": {},
     "output_type": "execute_result"
    }
   ],
   "execution_count": 3
  },
  {
   "metadata": {},
   "cell_type": "code",
   "outputs": [],
   "execution_count": null,
   "source": [
    "case class Track(\n",
    "                 uri: String,\n",
    "                 name: String,\n",
    "                 duration: Int,\n",
    "                 artistUri: String,\n",
    "                 albumUri: String,\n",
    "                 albumName: String\n",
    "               )\n",
    "\n",
    "case class Playlist(\n",
    "                     pid: Int,\n",
    "                     name: String,\n",
    "                     numFollowers: Int\n",
    "                   )\n",
    "\n",
    "case class TrackInPlaylist(\n",
    "                            pid: Int,\n",
    "                            trackUri: String,\n",
    "                            pos: Int\n",
    "                          )\n",
    "\n",
    "case class Artist(\n",
    "                     uri: String,\n",
    "                     name: String\n",
    "                 )\n",
    "\n"
   ],
   "id": "54d9f77ddef96ce5"
  }
 ],
 "metadata": {
  "kernelspec": {
   "display_name": "spylon-kernel",
   "language": "scala",
   "name": "spylon-kernel"
  },
  "language_info": {
   "codemirror_mode": "text/x-scala",
   "file_extension": ".scala",
   "help_links": [
    {
     "text": "MetaKernel Magics",
     "url": "https://metakernel.readthedocs.io/en/latest/source/README.html"
    }
   ],
   "mimetype": "text/x-scala",
   "name": "scala",
   "pygments_lexer": "scala",
   "version": "0.4.1"
  }
 },
 "nbformat": 4,
 "nbformat_minor": 5
}
