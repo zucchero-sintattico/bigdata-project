{
 "cells": [
  {
   "cell_type": "code",
   "id": "initial_id",
   "metadata": {
    "collapsed": true,
    "jupyter": {
     "outputs_hidden": true
    },
    "ExecuteTime": {
     "end_time": "2025-01-09T13:32:51.612767Z",
     "start_time": "2025-01-09T13:32:26.890039Z"
    }
   },
   "source": "import org.apache.spark",
   "outputs": [
    {
     "data": {
      "text/plain": [
       "Intitializing Scala interpreter ..."
      ]
     },
     "metadata": {},
     "output_type": "display_data"
    },
    {
     "data": {
      "text/plain": [
       "Spark Web UI available at http://10.201.100.218:4040\n",
       "SparkContext available as 'sc' (version = 3.5.1, master = local[*], app id = local-1736429560828)\n",
       "SparkSession available as 'spark'\n"
      ]
     },
     "metadata": {},
     "output_type": "display_data"
    },
    {
     "data": {
      "text/plain": [
       "import org.apache.spark\r\n"
      ]
     },
     "execution_count": 1,
     "metadata": {},
     "output_type": "execute_result"
    }
   ],
   "execution_count": 1
  },
  {
   "cell_type": "code",
   "execution_count": null,
   "id": "d236a1650f127d84",
   "metadata": {},
   "outputs": [],
   "source": [
    "// DO NOT EXECUTE - this is needed just to avoid showing errors in the following cells\n",
    "val sc = spark.SparkContext.getOrCreate()"
   ]
  },
  {
   "metadata": {
    "ExecuteTime": {
     "end_time": "2025-01-09T13:33:02.155935Z",
     "start_time": "2025-01-09T13:32:59.945094Z"
    }
   },
   "cell_type": "code",
   "source": [
    "// all the imports\n",
    "import java.io.{BufferedWriter, File, FileWriter}\n",
    "import com.fasterxml.jackson.databind.ObjectMapper\n",
    "import com.fasterxml.jackson.module.scala.DefaultScalaModule\n",
    "import scala.collection.mutable\n",
    "import scala.io.Source"
   ],
   "id": "8d01afb67e2a786e",
   "outputs": [
    {
     "data": {
      "text/plain": [
       "import java.io.{BufferedWriter, File, FileWriter}\r\n",
       "import com.fasterxml.jackson.databind.ObjectMapper\r\n",
       "import com.fasterxml.jackson.module.scala.DefaultScalaModule\r\n",
       "import scala.collection.mutable\r\n",
       "import scala.io.Source\r\n"
      ]
     },
     "execution_count": 2,
     "metadata": {},
     "output_type": "execute_result"
    }
   ],
   "execution_count": 2
  },
  {
   "metadata": {
    "ExecuteTime": {
     "end_time": "2025-01-09T13:33:08.707376Z",
     "start_time": "2025-01-09T13:33:04.086257Z"
    }
   },
   "cell_type": "code",
   "source": [
    "val path_to_datasets = \"../../../datasets/spotify/data/\"\n",
    "val path_to_output = \"../../../datasets/output/\""
   ],
   "id": "5a4252c33e083aa9",
   "outputs": [
    {
     "data": {
      "text/plain": [
       "path_to_datasets: String = ../../../datasets/spotify/data/\r\n",
       "path_to_output: String = ../../../datasets/output/\r\n"
      ]
     },
     "execution_count": 3,
     "metadata": {},
     "output_type": "execute_result"
    }
   ],
   "execution_count": 3
  },
  {
   "metadata": {
    "ExecuteTime": {
     "end_time": "2025-01-09T13:33:15.292337Z",
     "start_time": "2025-01-09T13:33:11.032297Z"
    }
   },
   "cell_type": "code",
   "source": [
    "case class Track(uri: String, name: String, duration: Int, artistUri: String, albumUri: String, albumName: String)\n",
    "\n",
    "case class Playlist(pid: Int, name: String, numFollowers: Int)\n",
    "\n",
    "case class TrackInPlaylist(pid: Int, trackUri: String, pos: Int)\n",
    "\n",
    "case class Artist(uri: String, name: String)"
   ],
   "id": "43a498916ef33c3b",
   "outputs": [
    {
     "data": {
      "text/plain": [
       "defined class Track\r\n",
       "defined class Playlist\r\n",
       "defined class TrackInPlaylist\r\n",
       "defined class Artist\r\n"
      ]
     },
     "execution_count": 4,
     "metadata": {},
     "output_type": "execute_result"
    }
   ],
   "execution_count": 4
  },
  {
   "metadata": {
    "ExecuteTime": {
     "end_time": "2025-01-09T13:39:36.191577Z",
     "start_time": "2025-01-09T13:39:34.737717Z"
    }
   },
   "cell_type": "code",
   "source": [
    "// write the output in csv\n",
    "def appendToCsv[T](data: Seq[T], csvFile: String, headers: Seq[String])(implicit toMap: T => Map[String, Any]): Unit = {\n",
    "  val file = new File(csvFile)\n",
    "  val outputDir = file.getParentFile\n",
    "    if (!outputDir.exists() && outputDir != null) {\n",
    "        outputDir.mkdirs()\n",
    "    }\n",
    "  val writer = new BufferedWriter(new FileWriter(file, true))\n",
    "  try {\n",
    "    if(!file.exists() || file.length() == 0) {\n",
    "      writer.write(headers.mkString(\",\") + \"\\n\")\n",
    "    }\n",
    "    data.foreach { row =>\n",
    "      val line = headers.map(h => toMap(row).getOrElse(h, \"\").toString).mkString(\",\")\n",
    "      writer.write(line + \"\\n\")\n",
    "    }\n",
    "  } finally {\n",
    "    writer.close()\n",
    "  }\n",
    "}"
   ],
   "id": "8db0ee8dab3b485a",
   "outputs": [
    {
     "data": {
      "text/plain": [
       "appendToCsv: [T](data: Seq[T], csvFile: String, headers: Seq[String])(implicit toMap: T => Map[String,Any])Unit\r\n"
      ]
     },
     "execution_count": 9,
     "metadata": {},
     "output_type": "execute_result"
    }
   ],
   "execution_count": 9
  },
  {
   "metadata": {
    "ExecuteTime": {
     "end_time": "2025-01-09T13:33:35.411068Z",
     "start_time": "2025-01-09T13:33:33.443533Z"
    }
   },
   "cell_type": "code",
   "source": [
    "// implicit conversion to Map\n",
    "implicit val playlistToMap: Playlist => Map[String, Any] = p => Map(\n",
    "    \"pid\" -> p.pid,\n",
    "    \"name\" -> p.name,\n",
    "    \"numFollowers\" -> p.numFollowers\n",
    ")\n",
    "implicit val trackToMap: Track => Map[String, Any] = t => Map(\n",
    "  \"uri\" -> t.uri,\n",
    "  \"name\" -> t.name,\n",
    "  \"duration\" -> t.duration,\n",
    "  \"artistUri\" -> t.artistUri,\n",
    "  \"albumUri\" -> t.albumUri,\n",
    "  \"albumName\" -> t.albumName\n",
    ")\n",
    "implicit val trackInPlaylistToMap: TrackInPlaylist => Map[String, Any] = t => Map(\n",
    "  \"pid\" -> t.pid,\n",
    "  \"trackUri\" -> t.trackUri,\n",
    "  \"pos\" -> t.pos\n",
    ")\n",
    "implicit val artistToMap: Artist => Map[String, Any] = a => Map(\n",
    "  \"uri\" -> a.uri,\n",
    "  \"name\" -> a.name\n",
    ")\n"
   ],
   "id": "2f134364a196df62",
   "outputs": [
    {
     "data": {
      "text/plain": [
       "playlistToMap: Playlist => Map[String,Any] = $Lambda$2428/0x0000000800f10840@57a44979\r\n",
       "trackToMap: Track => Map[String,Any] = $Lambda$2429/0x0000000800f11040@591efccc\r\n",
       "trackInPlaylistToMap: TrackInPlaylist => Map[String,Any] = $Lambda$2430/0x0000000800f12040@530b08af\r\n",
       "artistToMap: Artist => Map[String,Any] = $Lambda$2431/0x0000000800f12840@37ac5f31\r\n"
      ]
     },
     "execution_count": 6,
     "metadata": {},
     "output_type": "execute_result"
    }
   ],
   "execution_count": 6
  },
  {
   "metadata": {
    "ExecuteTime": {
     "end_time": "2025-01-09T13:49:25.687922Z",
     "start_time": "2025-01-09T13:49:03.096292Z"
    }
   },
   "cell_type": "code",
   "source": [
    "val mapper = new ObjectMapper()\n",
    "mapper.registerModule(DefaultScalaModule)\n",
    "val files = new File(path_to_datasets).listFiles().filter(_.getName.endsWith(\".json\"))\n",
    "\n",
    "// path to the output files\n",
    "val playlistsCsv = path_to_output + \"playlists.csv\"\n",
    "val tracksCsv = path_to_output + \"tracks.csv\"\n",
    "val trackInPlaylistCsv = path_to_output + \"track_in_playlist.csv\"\n",
    "val artistsCsv = path_to_output + \"artists.csv\"\n",
    "\n",
    "var counter = 0\n",
    "// prendo i primi 200 file\n",
    "for (file <- files.take(10)) {\n",
    "  println(s\"Processing file: ${counter}\")\n",
    "  //increment the counter\n",
    "  counter += 1\n",
    "  \n",
    "  val jsonString = Source.fromFile(file).getLines().mkString\n",
    "  val jsonData = mapper.readValue(jsonString, classOf[Map[String, Any]])\n",
    "  val playlistsRaw = jsonData(\"playlists\").asInstanceOf[List[Map[String, Any]]]\n",
    "\n",
    "  // list for the data\n",
    "  val playlists = mutable.ListBuffer[Playlist]()\n",
    "  val tracks = mutable.ListBuffer[Track]()\n",
    "  val trackInPlaylist = mutable.ListBuffer[TrackInPlaylist]()\n",
    "  val artists = mutable.Set[Artist]()\n",
    "  \n",
    "  // Converte i dati delle playlist\n",
    "  playlistsRaw.foreach { playlist =>\n",
    "    playlists += Playlist(\n",
    "      pid = playlist(\"pid\").asInstanceOf[Int],\n",
    "      name = playlist(\"name\").toString,\n",
    "      numFollowers = playlist(\"num_followers\").asInstanceOf[Int]\n",
    "    )\n",
    "    \n",
    "    // Converte i dati dei brani\n",
    "    val tracksInPlaylist = playlist(\"tracks\").asInstanceOf[List[Map[String, Any]]]\n",
    "    tracksInPlaylist.zipWithIndex.foreach { case (track, index) =>\n",
    "      tracks += Track(\n",
    "        uri = track(\"track_uri\").toString,\n",
    "        name = track.getOrElse(\"track_name\", \"\").toString,\n",
    "        duration = track.getOrElse(\"duration_ms\", 0).asInstanceOf[Int],\n",
    "        artistUri = track(\"artist_uri\").toString,\n",
    "        albumUri = track.getOrElse(\"album_uri\", \"\").toString,\n",
    "        albumName = track.getOrElse(\"album_name\", \"\").toString\n",
    "      )\n",
    "      \n",
    "      trackInPlaylist += TrackInPlaylist(\n",
    "        pid = playlist(\"pid\").asInstanceOf[Int],\n",
    "        trackUri = track(\"track_uri\").toString,\n",
    "        pos = index\n",
    "      )\n",
    "\n",
    "      artists += Artist(\n",
    "        uri = track(\"artist_uri\").toString,\n",
    "        name = track(\"artist_name\").toString // Nome artista non presente nel JSON\n",
    "      )\n",
    "    }\n",
    "  }\n",
    "  // write in csv\n",
    "  appendToCsv(playlists.toSeq, playlistsCsv, Seq(\"pid\", \"name\", \"numFollowers\"))\n",
    "  appendToCsv(tracks.toSeq, tracksCsv, Seq(\"uri\", \"name\", \"duration\", \"artistUri\", \"albumUri\", \"albumName\"))\n",
    "  appendToCsv(trackInPlaylist.toSeq, trackInPlaylistCsv, Seq(\"pid\", \"trackUri\", \"pos\"))\n",
    "  appendToCsv(artists.toSeq, artistsCsv, Seq(\"uri\", \"name\"))  \n",
    "}\n"
   ],
   "id": "49aa8f6252dd7ac7",
   "outputs": [
    {
     "name": "stdout",
     "output_type": "stream",
     "text": [
      "Processing file: 0\r\n",
      "Processing file: 1\r\n",
      "Processing file: 2\r\n",
      "Processing file: 3\r\n",
      "Processing file: 4\r\n",
      "Processing file: 5\r\n",
      "Processing file: 6\r\n",
      "Processing file: 7\r\n",
      "Processing file: 8\r\n",
      "Processing file: 9\r\n"
     ]
    },
    {
     "data": {
      "text/plain": [
       "mapper: com.fasterxml.jackson.databind.ObjectMapper = com.fasterxml.jackson.databind.ObjectMapper@6028c9e4\r\n",
       "files: Array[java.io.File] = Array(..\\..\\..\\datasets\\spotify\\data\\mpd.slice.0-999.json, ..\\..\\..\\datasets\\spotify\\data\\mpd.slice.1000-1999.json, ..\\..\\..\\datasets\\spotify\\data\\mpd.slice.10000-10999.json, ..\\..\\..\\datasets\\spotify\\data\\mpd.slice.100000-100999.json, ..\\..\\..\\datasets\\spotify\\data\\mpd.slice.101000-101999.json, ..\\..\\..\\datasets\\spotify\\data\\mpd.slice.102000-102999.json, ..\\..\\..\\datasets\\spotify\\data\\mpd.slice.103000-103999.json, ..\\..\\..\\datasets\\spotify\\data\\mpd.slice.104000-104999.json, ..\\..\\..\\datasets\\spotify\\data\\mpd.slice.105000-105999.json, ..\\..\\..\\datasets\\spotify\\data\\mpd.slice.106000-106999.json, ..\\..\\..\\datasets\\spotify\\data\\mpd.slice.107000-107999.jso...\r\n"
      ]
     },
     "execution_count": 11,
     "metadata": {},
     "output_type": "execute_result"
    }
   ],
   "execution_count": 11
  },
  {
   "metadata": {},
   "cell_type": "code",
   "outputs": [],
   "execution_count": null,
   "source": "// read the csv files and delete the duplicate, with spark\n",
   "id": "5b3cfe8f0c4218b6"
  }
 ],
 "metadata": {
  "kernelspec": {
   "display_name": "spylon-kernel",
   "language": "scala",
   "name": "spylon-kernel"
  },
  "language_info": {
   "codemirror_mode": "text/x-scala",
   "file_extension": ".scala",
   "help_links": [
    {
     "text": "MetaKernel Magics",
     "url": "https://metakernel.readthedocs.io/en/latest/source/README.html"
    }
   ],
   "mimetype": "text/x-scala",
   "name": "scala",
   "pygments_lexer": "scala",
   "version": "0.4.1"
  }
 },
 "nbformat": 4,
 "nbformat_minor": 5
}
