{
 "cells": [
  {
   "cell_type": "code",
   "id": "initial_id",
   "metadata": {
    "collapsed": true,
    "jupyter": {
     "outputs_hidden": true
    },
    "ExecuteTime": {
     "end_time": "2025-01-09T11:24:02.810061Z",
     "start_time": "2025-01-09T11:23:29.061557Z"
    }
   },
   "source": "import org.apache.spark",
   "outputs": [
    {
     "data": {
      "text/plain": [
       "Intitializing Scala interpreter ..."
      ]
     },
     "metadata": {},
     "output_type": "display_data"
    },
    {
     "data": {
      "text/plain": [
       "Spark Web UI available at http://LAPTOP-PSTRJPQO:4040\n",
       "SparkContext available as 'sc' (version = 3.5.1, master = local[*], app id = local-1736421829912)\n",
       "SparkSession available as 'spark'\n"
      ]
     },
     "metadata": {},
     "output_type": "display_data"
    },
    {
     "data": {
      "text/plain": [
       "import org.apache.spark\r\n"
      ]
     },
     "execution_count": 1,
     "metadata": {},
     "output_type": "execute_result"
    }
   ],
   "execution_count": 1
  },
  {
   "cell_type": "code",
   "execution_count": null,
   "id": "d236a1650f127d84",
   "metadata": {},
   "outputs": [],
   "source": [
    "// DO NOT EXECUTE - this is needed just to avoid showing errors in the following cells\n",
    "val sc = spark.SparkContext.getOrCreate()"
   ]
  },
  {
   "metadata": {
    "ExecuteTime": {
     "end_time": "2025-01-09T11:24:10.223898Z",
     "start_time": "2025-01-09T11:24:08.289212Z"
    }
   },
   "cell_type": "code",
   "source": "val path_to_datasets = \"../../../dataset/spotify/data/\"",
   "id": "5a4252c33e083aa9",
   "outputs": [
    {
     "data": {
      "text/plain": [
       "path_to_datasets: String = ../../../dataset/spotify/data/\r\n"
      ]
     },
     "execution_count": 2,
     "metadata": {},
     "output_type": "execute_result"
    }
   ],
   "execution_count": 2
  },
  {
   "metadata": {
    "ExecuteTime": {
     "end_time": "2025-01-09T11:24:25.735428Z",
     "start_time": "2025-01-09T11:24:22.750106Z"
    }
   },
   "cell_type": "code",
   "source": [
    "case class Track(\n",
    "                 uri: String,\n",
    "                 name: String,\n",
    "                 duration: Int,\n",
    "                 artistUri: String,\n",
    "                 albumUri: String,\n",
    "                 albumName: String\n",
    "               )\n",
    "\n",
    "case class Playlist(\n",
    "                     pid: Int,\n",
    "                     name: String,\n",
    "                     numFollowers: Int\n",
    "                   )\n",
    "\n",
    "case class TrackInPlaylist(\n",
    "                            pid: Int,\n",
    "                            trackUri: String,\n",
    "                            pos: Int\n",
    "                          )\n",
    "\n",
    "case class Artist(\n",
    "                     uri: String,\n",
    "                     name: String\n",
    "                 )\n",
    "\n"
   ],
   "id": "54d9f77ddef96ce5",
   "outputs": [
    {
     "data": {
      "text/plain": [
       "defined class Track\r\n",
       "defined class Playlist\r\n",
       "defined class TrackInPlaylist\r\n",
       "defined class Artist\r\n"
      ]
     },
     "execution_count": 3,
     "metadata": {},
     "output_type": "execute_result"
    }
   ],
   "execution_count": 3
  },
  {
   "metadata": {
    "ExecuteTime": {
     "end_time": "2025-01-09T11:24:31.433169Z",
     "start_time": "2025-01-09T11:24:29.929341Z"
    }
   },
   "cell_type": "code",
   "source": [
    "import com.fasterxml.jackson.databind.ObjectMapper\n",
    "import com.fasterxml.jackson.module.scala.DefaultScalaModule\n",
    "import java.io.File\n",
    "import scala.collection.mutable.ListBuffer\n"
   ],
   "id": "4d7475260258daed",
   "outputs": [
    {
     "data": {
      "text/plain": [
       "import com.fasterxml.jackson.databind.ObjectMapper\r\n",
       "import com.fasterxml.jackson.module.scala.DefaultScalaModule\r\n",
       "import java.io.File\r\n",
       "import scala.collection.mutable.ListBuffer\r\n"
      ]
     },
     "execution_count": 4,
     "metadata": {},
     "output_type": "execute_result"
    }
   ],
   "execution_count": 4
  },
  {
   "metadata": {
    "ExecuteTime": {
     "end_time": "2025-01-09T11:24:45.385901Z",
     "start_time": "2025-01-09T11:24:35.384132Z"
    }
   },
   "cell_type": "code",
   "source": [
    "val folderPath = \"../../../dataset/spotify/data/\"\n",
    "val files = new java.io.File(folderPath).listFiles.filter(_.getName.endsWith(\".json\"))\n",
    "\n",
    "//val pathToJson = path_to_datasets + \"mpd.slice.0-999.json\"\n",
    "\n",
    "val mapper = new ObjectMapper()\n",
    "mapper.registerModule(DefaultScalaModule)\n",
    "\n",
    "val playlists = ListBuffer[Playlist]()\n",
    "val tracks = ListBuffer[Track]()\n",
    "val trackInPlaylist = ListBuffer[TrackInPlaylist]()\n",
    "val artists = ListBuffer[Artist]()\n",
    "\n",
    "var counter = 0\n",
    "\n",
    "for (file <- files.take(2)) {\n",
    "  println(s\"Processing file: ${counter}\")\n",
    "  //increment the counter\n",
    "  counter += 1\n",
    "  \n",
    "  val jsonString = scala.io.Source.fromFile(file).getLines().mkString\n",
    "  val jsonData = mapper.readValue(jsonString, classOf[Map[String, Any]])\n",
    "  val playlistsRaw = jsonData(\"playlists\").asInstanceOf[List[Map[String, Any]]]\n",
    "\n",
    "  // Converte i dati delle playlist\n",
    "  playlists ++= playlistsRaw.map { playlist =>\n",
    "    Playlist(\n",
    "      pid = playlist(\"pid\").asInstanceOf[Int],\n",
    "      name = playlist(\"name\").toString,\n",
    "      numFollowers = playlist(\"num_followers\").asInstanceOf[Int]\n",
    "    )\n",
    "  }\n",
    "\n",
    "  tracks ++= playlistsRaw.flatMap { playlist =>\n",
    "    playlist(\"tracks\").asInstanceOf[List[Map[String, Any]]].map { track =>\n",
    "      Track(\n",
    "        uri = track(\"track_uri\").toString,\n",
    "        name = track(\"track_name\").toString,\n",
    "        duration = track(\"duration_ms\").asInstanceOf[Int],\n",
    "        artistUri = track(\"artist_uri\").toString,\n",
    "        albumUri = track(\"album_uri\").toString,\n",
    "        albumName = track(\"album_name\").toString\n",
    "      )\n",
    "    }\n",
    "  }.distinct\n",
    "\n",
    "  trackInPlaylist ++= playlistsRaw.flatMap { playlist =>\n",
    "    playlist(\"tracks\").asInstanceOf[List[Map[String, Any]]].zipWithIndex.map { case (track, index) =>\n",
    "      TrackInPlaylist(\n",
    "        pid = playlist(\"pid\").asInstanceOf[Int],\n",
    "        trackUri = track(\"track_uri\").toString,\n",
    "        pos = index\n",
    "      )\n",
    "    }\n",
    "  }\n",
    "  \n",
    "  artists ++= tracks.map(track => Artist(track.artistUri, \"Unknown\")).distinct\n",
    "}\n"
   ],
   "id": "49aa8f6252dd7ac7",
   "outputs": [
    {
     "name": "stdout",
     "output_type": "stream",
     "text": [
      "Processing file: 0\r\n",
      "Processing file: 1\r\n"
     ]
    },
    {
     "data": {
      "text/plain": [
       "folderPath: String = ../../../dataset/spotify/data/\r\n",
       "files: Array[java.io.File] = Array(..\\..\\..\\dataset\\spotify\\data\\mpd.slice.0-999.json, ..\\..\\..\\dataset\\spotify\\data\\mpd.slice.1000-1999.json, ..\\..\\..\\dataset\\spotify\\data\\mpd.slice.10000-10999.json, ..\\..\\..\\dataset\\spotify\\data\\mpd.slice.100000-100999.json, ..\\..\\..\\dataset\\spotify\\data\\mpd.slice.101000-101999.json, ..\\..\\..\\dataset\\spotify\\data\\mpd.slice.102000-102999.json, ..\\..\\..\\dataset\\spotify\\data\\mpd.slice.103000-103999.json, ..\\..\\..\\dataset\\spotify\\data\\mpd.slice.104000-104999.json, ..\\..\\..\\dataset\\spotify\\data\\mpd.slice.105000-105999.json, ..\\..\\..\\dataset\\spotify\\data\\mpd.slice.106000-106999.json, ..\\..\\..\\dataset\\spotify\\data\\mpd.slice.107000-107999.json, ..\\..\\..\\dataset\\spotify\\data\\mpd.slice.108000-108999.json, ..\\...\r\n"
      ]
     },
     "execution_count": 5,
     "metadata": {},
     "output_type": "execute_result"
    }
   ],
   "execution_count": 5
  },
  {
   "metadata": {
    "ExecuteTime": {
     "end_time": "2025-01-09T11:24:49.502286Z",
     "start_time": "2025-01-09T11:24:47.781077Z"
    }
   },
   "cell_type": "code",
   "source": [
    "import org.apache.spark.sql.SparkSession\n",
    "import org.apache.spark.sql.DataFrame"
   ],
   "id": "b706d691b98a6dfb",
   "outputs": [
    {
     "data": {
      "text/plain": [
       "import org.apache.spark.sql.SparkSession\r\n",
       "import org.apache.spark.sql.DataFrame\r\n"
      ]
     },
     "execution_count": 6,
     "metadata": {},
     "output_type": "execute_result"
    }
   ],
   "execution_count": 6
  },
  {
   "metadata": {
    "ExecuteTime": {
     "end_time": "2025-01-09T11:25:10.042965Z",
     "start_time": "2025-01-09T11:24:51.160143Z"
    }
   },
   "cell_type": "code",
   "source": [
    "val spark = SparkSession.builder()\n",
    "  .appName(\"Preprocessing\")\n",
    "  .master(\"local[*]\")\n",
    "  .config(\"spark.hadoop.mapreduce.fileoutputcommitter.marksuccessfuljobs\", \"false\") // Disabilita i file _SUCCESS e .crc\n",
    "  .getOrCreate()\n",
    "\n",
    "import spark.implicits._\n",
    "\n",
    "// Converti le liste in DataFrame\n",
    "val playlistsDF = playlists.toDF()\n",
    "val tracksDF = tracks.toDF()\n",
    "val trackInPlaylistDF = trackInPlaylist.toDF()\n",
    "val artistsDF = artists.toDF()"
   ],
   "id": "b3ea53578adce3c3",
   "outputs": [
    {
     "data": {
      "text/plain": [
       "spark: org.apache.spark.sql.SparkSession = org.apache.spark.sql.SparkSession@353d3470\r\n",
       "import spark.implicits._\r\n",
       "playlistsDF: org.apache.spark.sql.DataFrame = [pid: int, name: string ... 1 more field]\r\n",
       "tracksDF: org.apache.spark.sql.DataFrame = [uri: string, name: string ... 4 more fields]\r\n",
       "trackInPlaylistDF: org.apache.spark.sql.DataFrame = [pid: int, trackUri: string ... 1 more field]\r\n",
       "artistsDF: org.apache.spark.sql.DataFrame = [uri: string, name: string]\r\n"
      ]
     },
     "execution_count": 7,
     "metadata": {},
     "output_type": "execute_result"
    }
   ],
   "execution_count": 7
  },
  {
   "metadata": {
    "ExecuteTime": {
     "end_time": "2025-01-09T11:25:51.855769Z",
     "start_time": "2025-01-09T11:25:40.811423Z"
    }
   },
   "cell_type": "code",
   "source": [
    "playlistsDF.coalesce(1).write.option(\"header\", \"true\").csv(\"output/playlists.csv\")\n",
    "tracksDF.coalesce(1).write.option(\"header\", \"true\").csv(\"output/tracks.csv\")\n",
    "trackInPlaylistDF.coalesce(1).write.option(\"header\", \"true\").csv(\"output/track_in_playlist.csv\")\n",
    "artistsDF.coalesce(1).write.option(\"header\", \"true\").csv(\"output/artists.csv\")"
   ],
   "id": "7e9bbc1e54724c77",
   "outputs": [],
   "execution_count": 9
  },
  {
   "metadata": {
    "jupyter": {
     "is_executing": true
    },
    "ExecuteTime": {
     "start_time": "2025-01-08T23:58:35.884952Z"
    }
   },
   "cell_type": "code",
   "source": [
    "/*\n",
    "import org.apache.spark.sql.SparkSession\n",
    "import org.apache.spark.sql.functions._\n",
    "import com.fasterxml.jackson.databind.ObjectMapper\n",
    "import java.nio.file.{Files, Paths}\n",
    "import scala.collection.JavaConverters._\n",
    "\n",
    "// Percorso della cartella contenente i file JSON\n",
    "val folderPath = \"../../../dataset/spotify/data/\"\n",
    "val files = new java.io.File(folderPath).listFiles.filter(_.getName.endsWith(\".json\"))\n",
    "\n",
    "// Inizializza un contatore per tracciare i progressi\n",
    "var fileIndex = 0\n",
    "\n",
    "// Unisci tutti i DataFrame\n",
    "var combinedDF = spark.emptyDataFrame\n",
    "\n",
    "files.foreach { file =>\n",
    "  fileIndex += 1 // Incrementa l'indice del file\n",
    "  println(s\"Processing file #$fileIndex: ${file.getName}\")\n",
    "\n",
    "  // Leggi il file JSON corrente\n",
    "  val currentDF = spark.read\n",
    "    .option(\"multiline\", \"true\")\n",
    "    .json(file.getAbsolutePath)\n",
    "\n",
    "  // Combina i DataFrame\n",
    "  combinedDF = if (combinedDF.isEmpty) currentDF else combinedDF.union(currentDF)\n",
    "}\n",
    "\n",
    "// Estrai informazioni in DataFrame\n",
    "val playlistsDF2 = combinedDF.select($\"pid\", $\"name\", $\"num_followers\").distinct()\n",
    "\n",
    "val tracksDF2 = combinedDF\n",
    "  .select(explode($\"tracks\").as(\"track\"))\n",
    "  .select(\n",
    "    $\"track.track_uri\".as(\"uri\"),\n",
    "    $\"track.track_name\".as(\"name\"),\n",
    "    $\"track.duration_ms\".as(\"duration\"),\n",
    "    $\"track.artist_uri\".as(\"artistUri\"),\n",
    "    $\"track.album_uri\".as(\"albumUri\"),\n",
    "    $\"track.album_name\".as(\"albumName\")\n",
    "  ).distinct()\n",
    "\n",
    "val trackInPlaylistDF2 = combinedDF\n",
    "  .select($\"pid\", explode($\"tracks\").as(\"track\"))\n",
    "  .select($\"pid\", $\"track.track_uri\".as(\"trackUri\"), $\"track.pos\".as(\"pos\"))\n",
    "\n",
    "val artistsDF2 = combinedDF\n",
    "  .select(explode($\"tracks\").as(\"track\"))\n",
    "  .select($\"track.artist_uri\".as(\"uri\"), $\"track.artist_name\".as(\"name\"))\n",
    "  .distinct()\n",
    "\n",
    "// Salva i DataFrame come CSV\n",
    "playlistsDF2.coalesce(1).write\n",
    "  .option(\"header\", \"true\")\n",
    "  .csv(\"output/playlists.csv\")\n",
    "\n",
    "tracksDF2.coalesce(1).write\n",
    "  .option(\"header\", \"true\")\n",
    "  .csv(\"output/tracks.csv\")\n",
    "\n",
    "trackInPlaylistDF2.coalesce(1).write\n",
    "  .option(\"header\", \"true\")\n",
    "  .csv(\"output/track_in_playlist.csv\")\n",
    "\n",
    "artistsDF2.coalesce(1).write\n",
    "  .option(\"header\", \"true\")\n",
    "  .csv(\"output/artists.csv\")\n",
    "\n",
    "\n",
    " */"
   ],
   "id": "ab820b13fd65e499",
   "outputs": [
    {
     "name": "stdout",
     "output_type": "stream",
     "text": [
      "Processing file #1: mpd.slice.0-999.json\r\n",
      "Processing file #2: mpd.slice.1000-1999.json\r\n"
     ]
    }
   ],
   "execution_count": null
  }
 ],
 "metadata": {
  "kernelspec": {
   "display_name": "spylon-kernel",
   "language": "scala",
   "name": "spylon-kernel"
  },
  "language_info": {
   "codemirror_mode": "text/x-scala",
   "file_extension": ".scala",
   "help_links": [
    {
     "text": "MetaKernel Magics",
     "url": "https://metakernel.readthedocs.io/en/latest/source/README.html"
    }
   ],
   "mimetype": "text/x-scala",
   "name": "scala",
   "pygments_lexer": "scala",
   "version": "0.4.1"
  }
 },
 "nbformat": 4,
 "nbformat_minor": 5
}
